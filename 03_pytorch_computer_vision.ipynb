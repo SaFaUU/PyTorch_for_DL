{
 "cells": [
  {
   "cell_type": "code",
   "execution_count": 1,
   "metadata": {},
   "outputs": [
    {
     "name": "stderr",
     "output_type": "stream",
     "text": [
      "c:\\Users\\Administrator\\AppData\\Local\\Programs\\Python\\Python311\\Lib\\site-packages\\tqdm\\auto.py:21: TqdmWarning: IProgress not found. Please update jupyter and ipywidgets. See https://ipywidgets.readthedocs.io/en/stable/user_install.html\n",
      "  from .autonotebook import tqdm as notebook_tqdm\n"
     ]
    },
    {
     "name": "stdout",
     "output_type": "stream",
     "text": [
      "2.2.0.dev20230922+cu121\n",
      "0.17.0.dev20230925+cu121\n"
     ]
    }
   ],
   "source": [
    "import torch\n",
    "from torch import nn\n",
    "import torchvision\n",
    "from torchvision import datasets\n",
    "from torchvision import transforms\n",
    "from torchvision.transforms import ToTensor\n",
    "\n",
    "\n",
    "import matplotlib.pyplot as plt\n",
    "\n",
    "print(torch.__version__)\n",
    "print(torchvision.__version__)"
   ]
  },
  {
   "cell_type": "code",
   "execution_count": 2,
   "metadata": {},
   "outputs": [],
   "source": [
    "train_data = datasets.FashionMNIST(\n",
    "    root=\"data\",\n",
    "    train=True,\n",
    "    download=True,\n",
    "    transform=ToTensor(),\n",
    "    target_transform=None\n",
    ")\n",
    "\n",
    "test_data = datasets.FashionMNIST(\n",
    "    root=\"data\",\n",
    "    train=False,\n",
    "    download=True,\n",
    "    transform=ToTensor(),\n",
    "    target_transform=None\n",
    ")"
   ]
  },
  {
   "cell_type": "code",
   "execution_count": 3,
   "metadata": {},
   "outputs": [
    {
     "data": {
      "text/plain": [
       "(60000, 10000)"
      ]
     },
     "execution_count": 3,
     "metadata": {},
     "output_type": "execute_result"
    }
   ],
   "source": [
    "len(train_data), len(test_data)"
   ]
  },
  {
   "cell_type": "code",
   "execution_count": 4,
   "metadata": {},
   "outputs": [
    {
     "data": {
      "text/plain": [
       "(tensor([[[0.0000, 0.0000, 0.0000, 0.0000, 0.0000, 0.0000, 0.0000, 0.0000,\n",
       "           0.0000, 0.0000, 0.0000, 0.0000, 0.0000, 0.0000, 0.0000, 0.0000,\n",
       "           0.0000, 0.0000, 0.0000, 0.0000, 0.0000, 0.0000, 0.0000, 0.0000,\n",
       "           0.0000, 0.0000, 0.0000, 0.0000],\n",
       "          [0.0000, 0.0000, 0.0000, 0.0000, 0.0000, 0.0000, 0.0000, 0.0000,\n",
       "           0.0000, 0.0000, 0.0000, 0.0000, 0.0000, 0.0000, 0.0000, 0.0000,\n",
       "           0.0000, 0.0000, 0.0000, 0.0000, 0.0000, 0.0000, 0.0000, 0.0000,\n",
       "           0.0000, 0.0000, 0.0000, 0.0000],\n",
       "          [0.0000, 0.0000, 0.0000, 0.0000, 0.0000, 0.0000, 0.0000, 0.0000,\n",
       "           0.0000, 0.0000, 0.0000, 0.0000, 0.0000, 0.0000, 0.0000, 0.0000,\n",
       "           0.0000, 0.0000, 0.0000, 0.0000, 0.0000, 0.0000, 0.0000, 0.0000,\n",
       "           0.0000, 0.0000, 0.0000, 0.0000],\n",
       "          [0.0000, 0.0000, 0.0000, 0.0000, 0.0000, 0.0000, 0.0000, 0.0000,\n",
       "           0.0000, 0.0000, 0.0000, 0.0000, 0.0039, 0.0000, 0.0000, 0.0510,\n",
       "           0.2863, 0.0000, 0.0000, 0.0039, 0.0157, 0.0000, 0.0000, 0.0000,\n",
       "           0.0000, 0.0039, 0.0039, 0.0000],\n",
       "          [0.0000, 0.0000, 0.0000, 0.0000, 0.0000, 0.0000, 0.0000, 0.0000,\n",
       "           0.0000, 0.0000, 0.0000, 0.0000, 0.0118, 0.0000, 0.1412, 0.5333,\n",
       "           0.4980, 0.2431, 0.2118, 0.0000, 0.0000, 0.0000, 0.0039, 0.0118,\n",
       "           0.0157, 0.0000, 0.0000, 0.0118],\n",
       "          [0.0000, 0.0000, 0.0000, 0.0000, 0.0000, 0.0000, 0.0000, 0.0000,\n",
       "           0.0000, 0.0000, 0.0000, 0.0000, 0.0235, 0.0000, 0.4000, 0.8000,\n",
       "           0.6902, 0.5255, 0.5647, 0.4824, 0.0902, 0.0000, 0.0000, 0.0000,\n",
       "           0.0000, 0.0471, 0.0392, 0.0000],\n",
       "          [0.0000, 0.0000, 0.0000, 0.0000, 0.0000, 0.0000, 0.0000, 0.0000,\n",
       "           0.0000, 0.0000, 0.0000, 0.0000, 0.0000, 0.0000, 0.6078, 0.9255,\n",
       "           0.8118, 0.6980, 0.4196, 0.6118, 0.6314, 0.4275, 0.2510, 0.0902,\n",
       "           0.3020, 0.5098, 0.2824, 0.0588],\n",
       "          [0.0000, 0.0000, 0.0000, 0.0000, 0.0000, 0.0000, 0.0000, 0.0000,\n",
       "           0.0000, 0.0000, 0.0000, 0.0039, 0.0000, 0.2706, 0.8118, 0.8745,\n",
       "           0.8549, 0.8471, 0.8471, 0.6392, 0.4980, 0.4745, 0.4784, 0.5725,\n",
       "           0.5529, 0.3451, 0.6745, 0.2588],\n",
       "          [0.0000, 0.0000, 0.0000, 0.0000, 0.0000, 0.0000, 0.0000, 0.0000,\n",
       "           0.0000, 0.0039, 0.0039, 0.0039, 0.0000, 0.7843, 0.9098, 0.9098,\n",
       "           0.9137, 0.8980, 0.8745, 0.8745, 0.8431, 0.8353, 0.6431, 0.4980,\n",
       "           0.4824, 0.7686, 0.8980, 0.0000],\n",
       "          [0.0000, 0.0000, 0.0000, 0.0000, 0.0000, 0.0000, 0.0000, 0.0000,\n",
       "           0.0000, 0.0000, 0.0000, 0.0000, 0.0000, 0.7176, 0.8824, 0.8471,\n",
       "           0.8745, 0.8941, 0.9216, 0.8902, 0.8784, 0.8706, 0.8784, 0.8667,\n",
       "           0.8745, 0.9608, 0.6784, 0.0000],\n",
       "          [0.0000, 0.0000, 0.0000, 0.0000, 0.0000, 0.0000, 0.0000, 0.0000,\n",
       "           0.0000, 0.0000, 0.0000, 0.0000, 0.0000, 0.7569, 0.8941, 0.8549,\n",
       "           0.8353, 0.7765, 0.7059, 0.8314, 0.8235, 0.8275, 0.8353, 0.8745,\n",
       "           0.8627, 0.9529, 0.7922, 0.0000],\n",
       "          [0.0000, 0.0000, 0.0000, 0.0000, 0.0000, 0.0000, 0.0000, 0.0000,\n",
       "           0.0000, 0.0039, 0.0118, 0.0000, 0.0471, 0.8588, 0.8627, 0.8314,\n",
       "           0.8549, 0.7529, 0.6627, 0.8902, 0.8157, 0.8549, 0.8784, 0.8314,\n",
       "           0.8863, 0.7725, 0.8196, 0.2039],\n",
       "          [0.0000, 0.0000, 0.0000, 0.0000, 0.0000, 0.0000, 0.0000, 0.0000,\n",
       "           0.0000, 0.0000, 0.0235, 0.0000, 0.3882, 0.9569, 0.8706, 0.8627,\n",
       "           0.8549, 0.7961, 0.7765, 0.8667, 0.8431, 0.8353, 0.8706, 0.8627,\n",
       "           0.9608, 0.4667, 0.6549, 0.2196],\n",
       "          [0.0000, 0.0000, 0.0000, 0.0000, 0.0000, 0.0000, 0.0000, 0.0000,\n",
       "           0.0000, 0.0157, 0.0000, 0.0000, 0.2157, 0.9255, 0.8941, 0.9020,\n",
       "           0.8941, 0.9412, 0.9098, 0.8353, 0.8549, 0.8745, 0.9176, 0.8510,\n",
       "           0.8510, 0.8196, 0.3608, 0.0000],\n",
       "          [0.0000, 0.0000, 0.0039, 0.0157, 0.0235, 0.0275, 0.0078, 0.0000,\n",
       "           0.0000, 0.0000, 0.0000, 0.0000, 0.9294, 0.8863, 0.8510, 0.8745,\n",
       "           0.8706, 0.8588, 0.8706, 0.8667, 0.8471, 0.8745, 0.8980, 0.8431,\n",
       "           0.8549, 1.0000, 0.3020, 0.0000],\n",
       "          [0.0000, 0.0118, 0.0000, 0.0000, 0.0000, 0.0000, 0.0000, 0.0000,\n",
       "           0.0000, 0.2431, 0.5686, 0.8000, 0.8941, 0.8118, 0.8353, 0.8667,\n",
       "           0.8549, 0.8157, 0.8275, 0.8549, 0.8784, 0.8745, 0.8588, 0.8431,\n",
       "           0.8784, 0.9569, 0.6235, 0.0000],\n",
       "          [0.0000, 0.0000, 0.0000, 0.0000, 0.0706, 0.1725, 0.3216, 0.4196,\n",
       "           0.7412, 0.8941, 0.8627, 0.8706, 0.8510, 0.8863, 0.7843, 0.8039,\n",
       "           0.8275, 0.9020, 0.8784, 0.9176, 0.6902, 0.7373, 0.9804, 0.9725,\n",
       "           0.9137, 0.9333, 0.8431, 0.0000],\n",
       "          [0.0000, 0.2235, 0.7333, 0.8157, 0.8784, 0.8667, 0.8784, 0.8157,\n",
       "           0.8000, 0.8392, 0.8157, 0.8196, 0.7843, 0.6235, 0.9608, 0.7569,\n",
       "           0.8078, 0.8745, 1.0000, 1.0000, 0.8667, 0.9176, 0.8667, 0.8275,\n",
       "           0.8627, 0.9098, 0.9647, 0.0000],\n",
       "          [0.0118, 0.7922, 0.8941, 0.8784, 0.8667, 0.8275, 0.8275, 0.8392,\n",
       "           0.8039, 0.8039, 0.8039, 0.8627, 0.9412, 0.3137, 0.5882, 1.0000,\n",
       "           0.8980, 0.8667, 0.7373, 0.6039, 0.7490, 0.8235, 0.8000, 0.8196,\n",
       "           0.8706, 0.8941, 0.8824, 0.0000],\n",
       "          [0.3843, 0.9137, 0.7765, 0.8235, 0.8706, 0.8980, 0.8980, 0.9176,\n",
       "           0.9765, 0.8627, 0.7608, 0.8431, 0.8510, 0.9451, 0.2549, 0.2863,\n",
       "           0.4157, 0.4588, 0.6588, 0.8588, 0.8667, 0.8431, 0.8510, 0.8745,\n",
       "           0.8745, 0.8784, 0.8980, 0.1137],\n",
       "          [0.2941, 0.8000, 0.8314, 0.8000, 0.7569, 0.8039, 0.8275, 0.8824,\n",
       "           0.8471, 0.7255, 0.7725, 0.8078, 0.7765, 0.8353, 0.9412, 0.7647,\n",
       "           0.8902, 0.9608, 0.9373, 0.8745, 0.8549, 0.8314, 0.8196, 0.8706,\n",
       "           0.8627, 0.8667, 0.9020, 0.2627],\n",
       "          [0.1882, 0.7961, 0.7176, 0.7608, 0.8353, 0.7725, 0.7255, 0.7451,\n",
       "           0.7608, 0.7529, 0.7922, 0.8392, 0.8588, 0.8667, 0.8627, 0.9255,\n",
       "           0.8824, 0.8471, 0.7804, 0.8078, 0.7294, 0.7098, 0.6941, 0.6745,\n",
       "           0.7098, 0.8039, 0.8078, 0.4510],\n",
       "          [0.0000, 0.4784, 0.8588, 0.7569, 0.7020, 0.6706, 0.7176, 0.7686,\n",
       "           0.8000, 0.8235, 0.8353, 0.8118, 0.8275, 0.8235, 0.7843, 0.7686,\n",
       "           0.7608, 0.7490, 0.7647, 0.7490, 0.7765, 0.7529, 0.6902, 0.6118,\n",
       "           0.6549, 0.6941, 0.8235, 0.3608],\n",
       "          [0.0000, 0.0000, 0.2902, 0.7412, 0.8314, 0.7490, 0.6863, 0.6745,\n",
       "           0.6863, 0.7098, 0.7255, 0.7373, 0.7412, 0.7373, 0.7569, 0.7765,\n",
       "           0.8000, 0.8196, 0.8235, 0.8235, 0.8275, 0.7373, 0.7373, 0.7608,\n",
       "           0.7529, 0.8471, 0.6667, 0.0000],\n",
       "          [0.0078, 0.0000, 0.0000, 0.0000, 0.2588, 0.7843, 0.8706, 0.9294,\n",
       "           0.9373, 0.9490, 0.9647, 0.9529, 0.9569, 0.8667, 0.8627, 0.7569,\n",
       "           0.7490, 0.7020, 0.7137, 0.7137, 0.7098, 0.6902, 0.6510, 0.6588,\n",
       "           0.3882, 0.2275, 0.0000, 0.0000],\n",
       "          [0.0000, 0.0000, 0.0000, 0.0000, 0.0000, 0.0000, 0.0000, 0.1569,\n",
       "           0.2392, 0.1725, 0.2824, 0.1608, 0.1373, 0.0000, 0.0000, 0.0000,\n",
       "           0.0000, 0.0000, 0.0000, 0.0000, 0.0000, 0.0000, 0.0000, 0.0000,\n",
       "           0.0000, 0.0000, 0.0000, 0.0000],\n",
       "          [0.0000, 0.0000, 0.0000, 0.0000, 0.0000, 0.0000, 0.0000, 0.0000,\n",
       "           0.0000, 0.0000, 0.0000, 0.0000, 0.0000, 0.0000, 0.0000, 0.0000,\n",
       "           0.0000, 0.0000, 0.0000, 0.0000, 0.0000, 0.0000, 0.0000, 0.0000,\n",
       "           0.0000, 0.0000, 0.0000, 0.0000],\n",
       "          [0.0000, 0.0000, 0.0000, 0.0000, 0.0000, 0.0000, 0.0000, 0.0000,\n",
       "           0.0000, 0.0000, 0.0000, 0.0000, 0.0000, 0.0000, 0.0000, 0.0000,\n",
       "           0.0000, 0.0000, 0.0000, 0.0000, 0.0000, 0.0000, 0.0000, 0.0000,\n",
       "           0.0000, 0.0000, 0.0000, 0.0000]]]),\n",
       " 9)"
      ]
     },
     "execution_count": 4,
     "metadata": {},
     "output_type": "execute_result"
    }
   ],
   "source": [
    "image, label = train_data[0]\n",
    "image, label"
   ]
  },
  {
   "cell_type": "code",
   "execution_count": 5,
   "metadata": {},
   "outputs": [
    {
     "data": {
      "text/plain": [
       "['T-shirt/top',\n",
       " 'Trouser',\n",
       " 'Pullover',\n",
       " 'Dress',\n",
       " 'Coat',\n",
       " 'Sandal',\n",
       " 'Shirt',\n",
       " 'Sneaker',\n",
       " 'Bag',\n",
       " 'Ankle boot']"
      ]
     },
     "execution_count": 5,
     "metadata": {},
     "output_type": "execute_result"
    }
   ],
   "source": [
    "class_names = train_data.classes\n",
    "class_names"
   ]
  },
  {
   "cell_type": "code",
   "execution_count": 6,
   "metadata": {},
   "outputs": [
    {
     "data": {
      "text/plain": [
       "{'T-shirt/top': 0,\n",
       " 'Trouser': 1,\n",
       " 'Pullover': 2,\n",
       " 'Dress': 3,\n",
       " 'Coat': 4,\n",
       " 'Sandal': 5,\n",
       " 'Shirt': 6,\n",
       " 'Sneaker': 7,\n",
       " 'Bag': 8,\n",
       " 'Ankle boot': 9}"
      ]
     },
     "execution_count": 6,
     "metadata": {},
     "output_type": "execute_result"
    }
   ],
   "source": [
    "class_to_idx = train_data.class_to_idx\n",
    "class_to_idx"
   ]
  },
  {
   "cell_type": "code",
   "execution_count": 7,
   "metadata": {},
   "outputs": [
    {
     "data": {
      "text/plain": [
       "tensor([9, 0, 0,  ..., 3, 0, 5])"
      ]
     },
     "execution_count": 7,
     "metadata": {},
     "output_type": "execute_result"
    }
   ],
   "source": [
    "train_data.targets"
   ]
  },
  {
   "cell_type": "code",
   "execution_count": 8,
   "metadata": {},
   "outputs": [
    {
     "data": {
      "text/plain": [
       "(torch.Size([1, 28, 28]), 9)"
      ]
     },
     "execution_count": 8,
     "metadata": {},
     "output_type": "execute_result"
    }
   ],
   "source": [
    "image.shape, label"
   ]
  },
  {
   "cell_type": "markdown",
   "metadata": {},
   "source": [
    "### Visualizing the Data"
   ]
  },
  {
   "cell_type": "code",
   "execution_count": 9,
   "metadata": {},
   "outputs": [
    {
     "name": "stdout",
     "output_type": "stream",
     "text": [
      "Image Shape: torch.Size([1, 28, 28])\n"
     ]
    },
    {
     "data": {
      "text/plain": [
       "Text(0.5, 1.0, '9')"
      ]
     },
     "execution_count": 9,
     "metadata": {},
     "output_type": "execute_result"
    },
    {
     "data": {
      "image/png": "[encoded data removed]",
      "text/plain": [
       "<Figure size 640x480 with 1 Axes>"
      ]
     },
     "metadata": {},
     "output_type": "display_data"
    }
   ],
   "source": [
    "import matplotlib.pyplot as plt\n",
    "\n",
    "image, label = train_data[0]\n",
    "\n",
    "print(f\"Image Shape: {image.shape}\")\n",
    "plt.imshow(image.squeeze())\n",
    "plt.title(label)"
   ]
  },
  {
   "cell_type": "code",
   "execution_count": 10,
   "metadata": {},
   "outputs": [
    {
     "data": {
      "text/plain": [
       "(-0.5, 27.5, 27.5, -0.5)"
      ]
     },
     "execution_count": 10,
     "metadata": {},
     "output_type": "execute_result"
    },
    {
     "data": {
      "image/png": "[encoded data removed]",
      "text/plain": [
       "<Figure size 640x480 with 1 Axes>"
      ]
     },
     "metadata": {},
     "output_type": "display_data"
    }
   ],
   "source": [
    "plt.imshow(image.squeeze(), cmap=\"gray\")\n",
    "plt.title(class_names[label])\n",
    "plt.axis(False)"
   ]
  },
  {
   "cell_type": "code",
   "execution_count": 11,
   "metadata": {},
   "outputs": [
    {
     "data": {
      "image/png": "[encoded data removed]",
      "text/plain": [
       "<Figure size 900x900 with 16 Axes>"
      ]
     },
     "metadata": {},
     "output_type": "display_data"
    }
   ],
   "source": [
    "torch.manual_seed(42)\n",
    "\n",
    "fig = plt.figure(figsize=(9, 9))\n",
    "rows, cols = 4, 4\n",
    "for i in range(1, rows * cols + 1):\n",
    "    random_idx = torch.randint(0, len(train_data), size=[1]).item()\n",
    "    img, label = train_data[random_idx]\n",
    "    fig.add_subplot(rows, cols, i)\n",
    "    plt.imshow(img.squeeze(), cmap=\"gray\")\n",
    "    plt.title(class_names[label])\n",
    "    plt.axis(False)\n",
    "plt.show()"
   ]
  },
  {
   "cell_type": "code",
   "execution_count": 12,
   "metadata": {},
   "outputs": [
    {
     "data": {
      "text/plain": [
       "(Dataset FashionMNIST\n",
       "     Number of datapoints: 60000\n",
       "     Root location: data\n",
       "     Split: Train\n",
       "     StandardTransform\n",
       " Transform: ToTensor(),\n",
       " Dataset FashionMNIST\n",
       "     Number of datapoints: 10000\n",
       "     Root location: data\n",
       "     Split: Test\n",
       "     StandardTransform\n",
       " Transform: ToTensor())"
      ]
     },
     "execution_count": 12,
     "metadata": {},
     "output_type": "execute_result"
    }
   ],
   "source": [
    "train_data, test_data"
   ]
  },
  {
   "cell_type": "code",
   "execution_count": 13,
   "metadata": {},
   "outputs": [
    {
     "data": {
      "text/plain": [
       "(<torch.utils.data.dataloader.DataLoader at 0x16ccf433490>,\n",
       " <torch.utils.data.dataloader.DataLoader at 0x16ccf2cc790>)"
      ]
     },
     "execution_count": 13,
     "metadata": {},
     "output_type": "execute_result"
    }
   ],
   "source": [
    "from torch.utils.data import DataLoader\n",
    "\n",
    "BATCH_SIZE = 32\n",
    "\n",
    "train_dataloader = DataLoader(train_data, batch_size=BATCH_SIZE, shuffle=True)\n",
    "test_dataloader = DataLoader(test_data, batch_size=BATCH_SIZE)\n",
    "\n",
    "train_dataloader, test_dataloader"
   ]
  },
  {
   "cell_type": "code",
   "execution_count": 14,
   "metadata": {},
   "outputs": [
    {
     "name": "stdout",
     "output_type": "stream",
     "text": [
      "DataLoaders: 1875 train and 313 test\n"
     ]
    }
   ],
   "source": [
    "print(f\"DataLoaders: {len(train_dataloader)} train and {len(test_dataloader)} test\")\n"
   ]
  },
  {
   "cell_type": "code",
   "execution_count": 15,
   "metadata": {},
   "outputs": [
    {
     "data": {
      "text/plain": [
       "(torch.Size([32, 1, 28, 28]), torch.Size([32]))"
      ]
     },
     "execution_count": 15,
     "metadata": {},
     "output_type": "execute_result"
    }
   ],
   "source": [
    "train_features_batch, train_labels_batch = next(iter(train_dataloader))\n",
    "train_features_batch.shape, train_labels_batch.shape"
   ]
  },
  {
   "cell_type": "code",
   "execution_count": 16,
   "metadata": {},
   "outputs": [
    {
     "name": "stdout",
     "output_type": "stream",
     "text": [
      "Image Size: torch.Size([1, 28, 28])\n",
      "Label: 6, label size: torch.Size([])\n"
     ]
    },
    {
     "data": {
      "image/png": "[encoded data removed]",
      "text/plain": [
       "<Figure size 640x480 with 1 Axes>"
      ]
     },
     "metadata": {},
     "output_type": "display_data"
    }
   ],
   "source": [
    "torch.manual_seed(42)\n",
    "random_idx = torch.randint(0, len(train_features_batch), size=[1]).item()\n",
    "\n",
    "image, label = train_features_batch[random_idx], train_labels_batch[random_idx]\n",
    "\n",
    "plt.imshow(image.squeeze(), cmap=\"gray\")\n",
    "plt.title(class_names[label])\n",
    "plt.axis(False)\n",
    "print(f\"Image Size: {image.shape}\")\n",
    "print(f\"Label: {label}, label size: {label.shape}\")"
   ]
  },
  {
   "cell_type": "code",
   "execution_count": 17,
   "metadata": {},
   "outputs": [
    {
     "name": "stdout",
     "output_type": "stream",
     "text": [
      "Shape before flattening: torch.Size([1, 28, 28]) -> [color_channels, height, width]\n",
      "Shape after flattening: torch.Size([1, 784]) -> [color_channels, height * width]\n"
     ]
    }
   ],
   "source": [
    "flatten_model = nn.Flatten()\n",
    "\n",
    "x = train_features_batch[0]\n",
    "\n",
    "output = flatten_model(x)\n",
    "\n",
    "print(f\"Shape before flattening: {x.shape} -> [color_channels, height, width]\")\n",
    "print(f\"Shape after flattening: {output.shape} -> [color_channels, height * width]\")"
   ]
  },
  {
   "cell_type": "code",
   "execution_count": 18,
   "metadata": {},
   "outputs": [],
   "source": [
    "from torch import nn\n",
    "\n",
    "class FashionMNISTModelV0(nn.Module):\n",
    "    def __init__(self, input_shape: int, hidden_units: int, output_shape: int):\n",
    "        super().__init__()\n",
    "        self.layer_stack = nn.Sequential(\n",
    "            nn.Flatten(),\n",
    "            nn.Linear(in_features=input_shape, out_features=hidden_units),\n",
    "            nn.Linear(in_features=hidden_units, out_features=output_shape)\n",
    "        )\n",
    "    def forward(self, x):\n",
    "        return self.layer_stack(x)"
   ]
  },
  {
   "cell_type": "code",
   "execution_count": 19,
   "metadata": {},
   "outputs": [
    {
     "data": {
      "text/plain": [
       "FashionMNISTModelV0(\n",
       "  (layer_stack): Sequential(\n",
       "    (0): Flatten(start_dim=1, end_dim=-1)\n",
       "    (1): Linear(in_features=784, out_features=10, bias=True)\n",
       "    (2): Linear(in_features=10, out_features=10, bias=True)\n",
       "  )\n",
       ")"
      ]
     },
     "execution_count": 19,
     "metadata": {},
     "output_type": "execute_result"
    }
   ],
   "source": [
    "torch.manual_seed(42)\n",
    "model_0 = FashionMNISTModelV0(input_shape=784, hidden_units=10, output_shape=len(class_names))\n",
    "\n",
    "model_0"
   ]
  },
  {
   "cell_type": "code",
   "execution_count": 20,
   "metadata": {},
   "outputs": [
    {
     "data": {
      "text/plain": [
       "tensor([[-0.0315,  0.3171,  0.0531, -0.2525,  0.5959,  0.2112,  0.3233,  0.2694,\n",
       "         -0.1004,  0.0157]], grad_fn=<AddmmBackward0>)"
      ]
     },
     "execution_count": 20,
     "metadata": {},
     "output_type": "execute_result"
    }
   ],
   "source": [
    "dummy_x = torch.rand(size=(1, 784))\n",
    "model_0(dummy_x)"
   ]
  },
  {
   "cell_type": "code",
   "execution_count": 21,
   "metadata": {},
   "outputs": [
    {
     "data": {
      "text/plain": [
       "OrderedDict([('layer_stack.1.weight',\n",
       "              tensor([[ 0.0273,  0.0296, -0.0084,  ..., -0.0142,  0.0093,  0.0135],\n",
       "                      [-0.0188, -0.0354,  0.0187,  ..., -0.0106, -0.0001,  0.0115],\n",
       "                      [-0.0008,  0.0017,  0.0045,  ..., -0.0127, -0.0188,  0.0059],\n",
       "                      ...,\n",
       "                      [-0.0116,  0.0273, -0.0344,  ...,  0.0176,  0.0283, -0.0011],\n",
       "                      [-0.0230,  0.0257,  0.0291,  ..., -0.0187, -0.0087,  0.0001],\n",
       "                      [ 0.0176, -0.0147,  0.0053,  ..., -0.0336, -0.0221,  0.0205]])),\n",
       "             ('layer_stack.1.bias',\n",
       "              tensor([-0.0093,  0.0283, -0.0033,  0.0255,  0.0017,  0.0037, -0.0302, -0.0123,\n",
       "                       0.0018,  0.0163])),\n",
       "             ('layer_stack.2.weight',\n",
       "              tensor([[ 0.0614, -0.0687,  0.0021,  0.2718,  0.2109,  0.1079, -0.2279, -0.1063,\n",
       "                        0.2019,  0.2847],\n",
       "                      [-0.1495,  0.1344, -0.0740,  0.2006, -0.0475, -0.2514, -0.3130, -0.0118,\n",
       "                        0.0932, -0.1864],\n",
       "                      [ 0.2488,  0.1500,  0.1907,  0.1457, -0.3050, -0.0580,  0.1643,  0.1565,\n",
       "                       -0.2877, -0.1792],\n",
       "                      [ 0.2305, -0.2618,  0.2397, -0.0610,  0.0232,  0.1542,  0.0851, -0.2027,\n",
       "                        0.1030, -0.2715],\n",
       "                      [-0.1596, -0.0555, -0.0633,  0.2302, -0.1726,  0.2654,  0.1473,  0.1029,\n",
       "                        0.2252, -0.2160],\n",
       "                      [-0.2725,  0.0118,  0.1559,  0.1596,  0.0132,  0.3024,  0.1124,  0.1366,\n",
       "                       -0.1533,  0.0965],\n",
       "                      [-0.1184, -0.2555, -0.2057, -0.1909, -0.0477, -0.1324,  0.2905,  0.1307,\n",
       "                       -0.2629,  0.0133],\n",
       "                      [ 0.2727, -0.0127,  0.0513,  0.0863, -0.1043, -0.2047, -0.1185, -0.0825,\n",
       "                        0.2488, -0.2571],\n",
       "                      [ 0.0425, -0.1209, -0.0336, -0.0281, -0.1227,  0.0730,  0.0747, -0.1816,\n",
       "                        0.1943,  0.2853],\n",
       "                      [-0.1310,  0.0645, -0.1171,  0.2168, -0.0245, -0.2820,  0.0736,  0.2621,\n",
       "                        0.0012, -0.0810]])),\n",
       "             ('layer_stack.2.bias',\n",
       "              tensor([-0.0087,  0.1791,  0.2712, -0.0791,  0.1685,  0.1762,  0.2825,  0.2266,\n",
       "                      -0.2612, -0.2613]))])"
      ]
     },
     "execution_count": 21,
     "metadata": {},
     "output_type": "execute_result"
    }
   ],
   "source": [
    "model_0.state_dict()"
   ]
  },
  {
   "cell_type": "code",
   "execution_count": 22,
   "metadata": {},
   "outputs": [],
   "source": [
    "loss_fn = nn.CrossEntropyLoss()\n",
    "optimizer = torch.optim.SGD(model_0.parameters(), lr=0.1)"
   ]
  },
  {
   "cell_type": "code",
   "execution_count": 23,
   "metadata": {},
   "outputs": [],
   "source": [
    "from helper_functions import accuracy_fn"
   ]
  },
  {
   "cell_type": "code",
   "execution_count": 24,
   "metadata": {},
   "outputs": [],
   "source": [
    "from timeit import default_timer as timer\n",
    "\n",
    "def print_train_time(start: float, end: float, device: torch.device = None):\n",
    "    \"\"\"Prints difference between start and end time.\n",
    "\n",
    "    Args:\n",
    "        start (float): Start time of computation (preferred in timeit format). \n",
    "        end (float): End time of computation.\n",
    "        device ([type], optional): Device that compute is running on. Defaults to None.\n",
    "\n",
    "    Returns:\n",
    "        float: time between start and end in seconds (higher is longer).\n",
    "    \"\"\"\n",
    "    total_time = end - start\n",
    "    print(f\"\\nTrain time on {device}: {total_time:.3f} seconds\")\n",
    "    return total_time"
   ]
  },
  {
   "cell_type": "code",
   "execution_count": 25,
   "metadata": {},
   "outputs": [
    {
     "name": "stdout",
     "output_type": "stream",
     "text": [
      "\n",
      "Train time on cpu: 0.000 seconds\n"
     ]
    },
    {
     "data": {
      "text/plain": [
       "3.680000008898787e-05"
      ]
     },
     "execution_count": 25,
     "metadata": {},
     "output_type": "execute_result"
    }
   ],
   "source": [
    "start_timer = timer()\n",
    "end_timer = timer()\n",
    "\n",
    "print_train_time(start=start_timer, end=end_timer, device=\"cpu\")"
   ]
  },
  {
   "cell_type": "code",
   "execution_count": 26,
   "metadata": {},
   "outputs": [
    {
     "name": "stderr",
     "output_type": "stream",
     "text": [
      "  0%|          | 0/3 [00:00<?, ?it/s]"
     ]
    },
    {
     "name": "stdout",
     "output_type": "stream",
     "text": [
      "Epoch: 0\n",
      "-----\n",
      "Looked at 0/60000 samples\n",
      "Looked at 12800/60000 samples\n",
      "Looked at 25600/60000 samples\n",
      "Looked at 38400/60000 samples\n",
      "Looked at 51200/60000 samples\n"
     ]
    },
    {
     "name": "stderr",
     "output_type": "stream",
     "text": [
      " 33%|███▎      | 1/3 [00:14<00:29, 14.60s/it]"
     ]
    },
    {
     "name": "stdout",
     "output_type": "stream",
     "text": [
      "\n",
      "Train loss: 0.59039 | Test loss: 0.50954, Test acc: 82.04%\n",
      "Epoch: 1\n",
      "-----\n",
      "Looked at 0/60000 samples\n",
      "Looked at 12800/60000 samples\n",
      "Looked at 25600/60000 samples\n",
      "Looked at 38400/60000 samples\n",
      "Looked at 51200/60000 samples\n"
     ]
    },
    {
     "name": "stderr",
     "output_type": "stream",
     "text": [
      " 67%|██████▋   | 2/3 [00:29<00:14, 14.50s/it]"
     ]
    },
    {
     "name": "stdout",
     "output_type": "stream",
     "text": [
      "\n",
      "Train loss: 0.47633 | Test loss: 0.47989, Test acc: 83.20%\n",
      "Epoch: 2\n",
      "-----\n",
      "Looked at 0/60000 samples\n",
      "Looked at 12800/60000 samples\n",
      "Looked at 25600/60000 samples\n",
      "Looked at 38400/60000 samples\n",
      "Looked at 51200/60000 samples\n"
     ]
    },
    {
     "name": "stderr",
     "output_type": "stream",
     "text": [
      "100%|██████████| 3/3 [00:43<00:00, 14.56s/it]"
     ]
    },
    {
     "name": "stdout",
     "output_type": "stream",
     "text": [
      "\n",
      "Train loss: 0.45503 | Test loss: 0.47664, Test acc: 83.43%\n",
      "\n",
      "Train time on cpu: 43.720 seconds\n"
     ]
    },
    {
     "name": "stderr",
     "output_type": "stream",
     "text": [
      "\n"
     ]
    }
   ],
   "source": [
    "from tqdm.auto import tqdm\n",
    "\n",
    "torch.manual_seed(42)\n",
    "train_time_start_on_cpu = timer()\n",
    "\n",
    "epochs = 3\n",
    "for epoch in tqdm(range(epochs)):\n",
    "    print(f\"Epoch: {epoch}\\n-----\")\n",
    "    train_loss = 0\n",
    "    for batch, (X, y) in enumerate(train_dataloader):\n",
    "        model_0.train()\n",
    "        y_pred = model_0(X)\n",
    "        loss = loss_fn(y_pred, y)\n",
    "        train_loss += loss\n",
    "        optimizer.zero_grad()\n",
    "        loss.backward()\n",
    "        optimizer.step()\n",
    "\n",
    "        if batch % 400 == 0:\n",
    "            print(f\"Looked at {batch * len(X)}/{len(train_dataloader.dataset)} samples\")\n",
    "        \n",
    "    train_loss = train_loss / len(train_dataloader)\n",
    "\n",
    "    test_loss, test_acc = 0,0\n",
    "    model_0.eval()\n",
    "    with torch.inference_mode():\n",
    "        for X_test, y_test in test_dataloader:\n",
    "            test_pred = model_0(X_test)\n",
    "            test_loss += loss_fn(test_pred, y_test)\n",
    "            test_acc += accuracy_fn(y_true=y_test, y_pred=test_pred.argmax(dim=1))\n",
    "    \n",
    "        test_loss /= len(test_dataloader)\n",
    "        test_acc /= len(test_dataloader)\n",
    "\n",
    "    print(f\"\\nTrain loss: {train_loss:.5f} | Test loss: {test_loss:.5f}, Test acc: {test_acc:.2f}%\")\n",
    "train_time_end_on_cpu = timer()\n",
    "total_train_time_model_0 = print_train_time(start=start_timer, end=train_time_end_on_cpu, device=str(next(model_0.parameters()).device))"
   ]
  },
  {
   "cell_type": "code",
   "execution_count": 27,
   "metadata": {},
   "outputs": [
    {
     "name": "stderr",
     "output_type": "stream",
     "text": [
      "100%|██████████| 313/313 [00:01<00:00, 172.89it/s]\n"
     ]
    },
    {
     "data": {
      "text/plain": [
       "{'model_name': 'FashionMNISTModelV0',\n",
       " 'model_loss': 0.4766390025615692,\n",
       " 'model_acc': 83.42651757188499}"
      ]
     },
     "execution_count": 27,
     "metadata": {},
     "output_type": "execute_result"
    }
   ],
   "source": [
    "torch.manual_seed(42)\n",
    "\n",
    "def eval_model(model: torch.nn.Module, data_loader: torch.utils.data.DataLoader, loss_fn, accuracy_fn, ):\n",
    "    test_loss, correct = 0, 0\n",
    "    model.eval()\n",
    "    with torch.inference_mode():\n",
    "        for X, y in tqdm(data_loader):\n",
    "            test_pred = model(X)\n",
    "            test_loss += loss_fn(test_pred, y)\n",
    "            correct += accuracy_fn(y_true=y, y_pred=test_pred.argmax(dim=1))\n",
    "        test_loss /= len(data_loader)\n",
    "        correct /= len(data_loader)\n",
    "    \n",
    "        return {\"model_name\": model.__class__.__name__,\n",
    "                \"model_loss\": test_loss.item(),\n",
    "                \"model_acc\": correct}\n",
    "\n",
    "model_0_results = eval_model(model=model_0, data_loader=test_dataloader, loss_fn=loss_fn, accuracy_fn=accuracy_fn)\n",
    "model_0_results"
   ]
  },
  {
   "cell_type": "code",
   "execution_count": 55,
   "metadata": {},
   "outputs": [
    {
     "data": {
      "text/plain": [
       "'cuda'"
      ]
     },
     "execution_count": 55,
     "metadata": {},
     "output_type": "execute_result"
    }
   ],
   "source": [
    "device = \"cuda\" if torch.cuda.is_available() else \"cpu\"\n",
    "device"
   ]
  },
  {
   "cell_type": "code",
   "execution_count": 29,
   "metadata": {},
   "outputs": [
    {
     "data": {
      "text/plain": [
       "FashionMNISTModelV1(\n",
       "  (linear_relu_stack): Sequential(\n",
       "    (0): Flatten(start_dim=1, end_dim=-1)\n",
       "    (1): Linear(in_features=784, out_features=10, bias=True)\n",
       "    (2): ReLU()\n",
       "    (3): Linear(in_features=10, out_features=10, bias=True)\n",
       "  )\n",
       ")"
      ]
     },
     "execution_count": 29,
     "metadata": {},
     "output_type": "execute_result"
    }
   ],
   "source": [
    "class FashionMNISTModelV1(nn.Module):\n",
    "    def __init__(self, input_shape: int, hidden_units: int, output_shape: int):\n",
    "        super().__init__()\n",
    "        self.linear_relu_stack = nn.Sequential(\n",
    "            nn.Flatten(),\n",
    "            nn.Linear(in_features=input_shape, out_features=hidden_units),\n",
    "            nn.ReLU(),\n",
    "            nn.Linear(in_features=hidden_units, out_features=output_shape)\n",
    "        )\n",
    "    def forward(self, x):\n",
    "        return self.linear_relu_stack(x)\n",
    "model_1 = FashionMNISTModelV1(input_shape=784, hidden_units=10, output_shape=len(class_names))\n",
    "model_1.to(device)"
   ]
  },
  {
   "cell_type": "code",
   "execution_count": 30,
   "metadata": {},
   "outputs": [],
   "source": [
    "loss_fn = nn.CrossEntropyLoss()\n",
    "optimizer = torch.optim.SGD(model_1.parameters(), lr=0.1)"
   ]
  },
  {
   "cell_type": "code",
   "execution_count": 31,
   "metadata": {},
   "outputs": [
    {
     "name": "stderr",
     "output_type": "stream",
     "text": [
      "  0%|          | 0/3 [00:00<?, ?it/s]"
     ]
    },
    {
     "name": "stdout",
     "output_type": "stream",
     "text": [
      "Epoch: 0\n",
      "-----\n"
     ]
    },
    {
     "name": "stderr",
     "output_type": "stream",
     "text": [
      " 33%|███▎      | 1/3 [00:16<00:32, 16.26s/it]"
     ]
    },
    {
     "name": "stdout",
     "output_type": "stream",
     "text": [
      "\n",
      "Train loss: 0.62518 | Test loss: 0.58734, Test acc: 79.44%\n",
      "Epoch: 1\n",
      "-----\n"
     ]
    },
    {
     "name": "stderr",
     "output_type": "stream",
     "text": [
      " 67%|██████▋   | 2/3 [00:33<00:16, 16.83s/it]"
     ]
    },
    {
     "name": "stdout",
     "output_type": "stream",
     "text": [
      "\n",
      "Train loss: 0.46817 | Test loss: 0.46962, Test acc: 83.09%\n",
      "Epoch: 2\n",
      "-----\n"
     ]
    },
    {
     "name": "stderr",
     "output_type": "stream",
     "text": [
      "100%|██████████| 3/3 [00:48<00:00, 16.23s/it]"
     ]
    },
    {
     "name": "stdout",
     "output_type": "stream",
     "text": [
      "\n",
      "Train loss: 0.43819 | Test loss: 0.45408, Test acc: 83.71%\n",
      "\n",
      "Train time on cuda:0: 43.720 seconds\n"
     ]
    },
    {
     "name": "stderr",
     "output_type": "stream",
     "text": [
      "\n"
     ]
    }
   ],
   "source": [
    "X = X.to(device)\n",
    "y = y.to(device)\n",
    "X_test = X_test.to(device)\n",
    "y_test = y_test.to(device)\n",
    "\n",
    "torch.manual_seed(42)\n",
    "\n",
    "epochs = 3\n",
    "train_time_start_on_gpu = timer()\n",
    "for epoch in tqdm(range(epochs)):\n",
    "    print(f\"Epoch: {epoch}\\n-----\")\n",
    "    train_loss = 0\n",
    "    for batch, (X, y) in enumerate(train_dataloader):\n",
    "        model_1.train()\n",
    "        y_pred = model_1(X.to(device))\n",
    "        loss = loss_fn(y_pred, y.to(device))\n",
    "        train_loss += loss\n",
    "        optimizer.zero_grad()\n",
    "        loss.backward()\n",
    "        optimizer.step()\n",
    "\n",
    "    loss = train_loss / len(train_dataloader)\n",
    "    test_loss, test_acc = 0,0\n",
    "    model_1.eval()\n",
    "    with torch.inference_mode():\n",
    "        for X_test, y_test in test_dataloader:\n",
    "            test_pred = model_1(X_test.to(device))\n",
    "            test_loss += loss_fn(test_pred, y_test.to(device))\n",
    "            test_acc += accuracy_fn(y_true=y_test.to(device), y_pred=test_pred.argmax(dim=1))\n",
    "    \n",
    "        test_loss /= len(test_dataloader)\n",
    "        test_acc /= len(test_dataloader)\n",
    "        \n",
    "    print(f\"\\nTrain loss: {loss:.5f} | Test loss: {test_loss:.5f}, Test acc: {test_acc:.2f}%\")\n",
    "train_time_end_on_gpu = timer()\n",
    "total_train_time_model_0 = print_train_time(start=start_timer, end=train_time_end_on_cpu, device=str(next(model_1.parameters()).device))\n"
   ]
  },
  {
   "cell_type": "code",
   "execution_count": 71,
   "metadata": {},
   "outputs": [],
   "source": [
    "def train_step(model: torch.nn.Module,\n",
    "               data_loader: torch.utils.data.DataLoader,\n",
    "               loss_fn: torch.nn.Module,\n",
    "               optimizer: torch.optim.Optimizer,\n",
    "               accuracy_fn,\n",
    "               device: torch.device = device):\n",
    "    train_loss, train_acc = 0, 0\n",
    "    model.to(device)\n",
    "    for batch, (X, y) in enumerate(data_loader):\n",
    "        # Send data to GPU\n",
    "        X, y = X.to(device), y.to(device)\n",
    "\n",
    "        # 1. Forward pass\n",
    "        y_pred = model(X)\n",
    "\n",
    "        # 2. Calculate loss\n",
    "        loss = loss_fn(y_pred, y)\n",
    "        train_loss += loss\n",
    "        train_acc += accuracy_fn(y_true=y,\n",
    "                                 y_pred=y_pred.argmax(dim=1)) # Go from logits -> pred labels\n",
    "\n",
    "        # 3. Optimizer zero grad\n",
    "        optimizer.zero_grad()\n",
    "\n",
    "        # 4. Loss backward\n",
    "        loss.backward()\n",
    "\n",
    "        # 5. Optimizer step\n",
    "        optimizer.step()\n",
    "\n",
    "    # Calculate loss and accuracy per epoch and print out what's happening\n",
    "    train_loss /= len(data_loader)\n",
    "    train_acc /= len(data_loader)\n",
    "    print(f\"Train loss: {train_loss:.5f} | Train accuracy: {train_acc:.2f}%\")"
   ]
  },
  {
   "cell_type": "code",
   "execution_count": 74,
   "metadata": {},
   "outputs": [],
   "source": [
    "def test_step(data_loader: torch.utils.data.DataLoader,\n",
    "              model: torch.nn.Module,\n",
    "              loss_fn: torch.nn.Module,\n",
    "              accuracy_fn,\n",
    "              device: torch.device = device):\n",
    "    test_loss, test_acc = 0, 0\n",
    "    model.to(device)\n",
    "    model.eval() # put model in eval mode\n",
    "    # Turn on inference context manager\n",
    "    with torch.inference_mode(): \n",
    "        for X, y in data_loader:\n",
    "            # Send data to GPU\n",
    "            X, y = X.to(device), y.to(device)\n",
    "            \n",
    "            # 1. Forward pass\n",
    "            test_pred = model(X)\n",
    "            \n",
    "            # 2. Calculate loss and accuracy\n",
    "            test_loss += loss_fn(test_pred, y)\n",
    "            test_acc += accuracy_fn(y_true=y,\n",
    "                y_pred=test_pred.argmax(dim=1) # Go from logits -> pred labels\n",
    "            )\n",
    "        \n",
    "        # Adjust metrics and print out\n",
    "        test_loss /= len(data_loader)\n",
    "        test_acc /= len(data_loader)\n",
    "        print(f\"Test loss: {test_loss:.5f} | Test accuracy: {test_acc:.2f}%\\n\")"
   ]
  },
  {
   "cell_type": "code",
   "execution_count": 84,
   "metadata": {},
   "outputs": [
    {
     "name": "stderr",
     "output_type": "stream",
     "text": [
      "  0%|          | 0/3 [00:00<?, ?it/s]"
     ]
    },
    {
     "name": "stdout",
     "output_type": "stream",
     "text": [
      "Epoch: 0\n",
      "-----\n",
      "Train loss: 0.37895 | Train accuracy: 86.36%\n"
     ]
    },
    {
     "name": "stderr",
     "output_type": "stream",
     "text": [
      " 33%|███▎      | 1/3 [00:15<00:31, 15.79s/it]"
     ]
    },
    {
     "name": "stdout",
     "output_type": "stream",
     "text": [
      "Test loss: 0.44247 | Test accuracy: 84.41%\n",
      "\n",
      "Epoch: 1\n",
      "-----\n",
      "Train loss: 0.37895 | Train accuracy: 86.36%\n"
     ]
    },
    {
     "name": "stderr",
     "output_type": "stream",
     "text": [
      " 67%|██████▋   | 2/3 [00:32<00:16, 16.10s/it]"
     ]
    },
    {
     "name": "stdout",
     "output_type": "stream",
     "text": [
      "Test loss: 0.44247 | Test accuracy: 84.41%\n",
      "\n",
      "Epoch: 2\n",
      "-----\n",
      "Train loss: 0.37895 | Train accuracy: 86.36%\n"
     ]
    },
    {
     "name": "stderr",
     "output_type": "stream",
     "text": [
      "100%|██████████| 3/3 [00:48<00:00, 16.21s/it]"
     ]
    },
    {
     "name": "stdout",
     "output_type": "stream",
     "text": [
      "Test loss: 0.44247 | Test accuracy: 84.41%\n",
      "\n",
      "\n",
      "Train time on cuda:0: 43.720 seconds\n"
     ]
    },
    {
     "name": "stderr",
     "output_type": "stream",
     "text": [
      "\n"
     ]
    }
   ],
   "source": [
    "torch.manual_seed(42)\n",
    "torch.cuda.manual_seed(42)\n",
    "\n",
    "from timeit import default_timer as timer\n",
    "\n",
    "train_time_start_on_gpu = timer()\n",
    "\n",
    "epochs = 3\n",
    "\n",
    "for epoch in tqdm(range(epochs)):\n",
    "    print(f\"Epoch: {epoch}\\n-----\")\n",
    "    train_step(model=model_1, data_loader=train_dataloader, loss_fn=loss_fn, accuracy_fn=accuracy_fn, optimizer=optimizer, device=device)\n",
    "    test_step(model=model_1, data_loader=test_dataloader, loss_fn=loss_fn, accuracy_fn=accuracy_fn, device=device)\n",
    "\n",
    "train_time_end_on_gpu = timer()\n",
    "total_train_time_model_1 = print_train_time(start=start_timer, end=train_time_end_on_cpu, device=str(next(model_1.parameters()).device))"
   ]
  },
  {
   "cell_type": "code",
   "execution_count": 35,
   "metadata": {},
   "outputs": [],
   "source": [
    "def eval_model(model: torch.nn.Module, \n",
    "               data_loader: torch.utils.data.DataLoader, \n",
    "               loss_fn, \n",
    "               accuracy_fn, \n",
    "               device: torch.device = device\n",
    "               ):\n",
    "    test_loss, correct = 0, 0\n",
    "    model.eval()\n",
    "    with torch.inference_mode():\n",
    "        for X, y in tqdm(data_loader):\n",
    "            X, y = X.to(device), y.to(device)\n",
    "            test_pred = model(X)\n",
    "            test_loss += loss_fn(test_pred, y)\n",
    "            correct += accuracy_fn(y_true=y, y_pred=test_pred.argmax(dim=1))\n",
    "        test_loss /= len(data_loader)\n",
    "        correct /= len(data_loader)\n",
    "    \n",
    "        return {\"model_name\": model.__class__.__name__,\n",
    "                \"model_loss\": test_loss.item(),\n",
    "                \"model_acc\": correct}"
   ]
  },
  {
   "cell_type": "code",
   "execution_count": 36,
   "metadata": {},
   "outputs": [
    {
     "name": "stderr",
     "output_type": "stream",
     "text": [
      "100%|██████████| 313/313 [00:01<00:00, 165.11it/s]\n"
     ]
    },
    {
     "data": {
      "text/plain": [
       "{'model_name': 'FashionMNISTModelV1',\n",
       " 'model_loss': 0.442473441362381,\n",
       " 'model_acc': 84.41493610223642}"
      ]
     },
     "execution_count": 36,
     "metadata": {},
     "output_type": "execute_result"
    }
   ],
   "source": [
    "model_1_results = eval_model(model=model_1, data_loader=test_dataloader, loss_fn=loss_fn, accuracy_fn=accuracy_fn, device=device)\n",
    "model_1_results"
   ]
  },
  {
   "cell_type": "code",
   "execution_count": 37,
   "metadata": {},
   "outputs": [
    {
     "data": {
      "text/plain": [
       "{'model_name': 'FashionMNISTModelV0',\n",
       " 'model_loss': 0.4766390025615692,\n",
       " 'model_acc': 83.42651757188499}"
      ]
     },
     "execution_count": 37,
     "metadata": {},
     "output_type": "execute_result"
    }
   ],
   "source": [
    "model_0_results"
   ]
  },
  {
   "cell_type": "code",
   "execution_count": 76,
   "metadata": {},
   "outputs": [
    {
     "data": {
      "text/plain": [
       "FashionMNISTModelV2(\n",
       "  (block_1): Sequential(\n",
       "    (0): Conv2d(1, 10, kernel_size=(3, 3), stride=(1, 1), padding=(1, 1))\n",
       "    (1): ReLU()\n",
       "    (2): Conv2d(10, 10, kernel_size=(3, 3), stride=(1, 1), padding=(1, 1))\n",
       "    (3): ReLU()\n",
       "    (4): MaxPool2d(kernel_size=2, stride=2, padding=0, dilation=1, ceil_mode=False)\n",
       "  )\n",
       "  (block_2): Sequential(\n",
       "    (0): Conv2d(10, 10, kernel_size=(3, 3), stride=(1, 1), padding=(1, 1))\n",
       "    (1): ReLU()\n",
       "    (2): Conv2d(10, 10, kernel_size=(3, 3), stride=(1, 1), padding=(1, 1))\n",
       "    (3): ReLU()\n",
       "    (4): MaxPool2d(kernel_size=2, stride=2, padding=0, dilation=1, ceil_mode=False)\n",
       "  )\n",
       "  (classifier): Sequential(\n",
       "    (0): Flatten(start_dim=1, end_dim=-1)\n",
       "    (1): Linear(in_features=490, out_features=10, bias=True)\n",
       "  )\n",
       ")"
      ]
     },
     "execution_count": 76,
     "metadata": {},
     "output_type": "execute_result"
    }
   ],
   "source": [
    "# Create a convolutional neural network \n",
    "class FashionMNISTModelV2(nn.Module):\n",
    "    \"\"\"\n",
    "    Model architecture copying TinyVGG from: \n",
    "    https://poloclub.github.io/cnn-explainer/\n",
    "    \"\"\"\n",
    "    def __init__(self, input_shape: int, hidden_units: int, output_shape: int):\n",
    "        super().__init__()\n",
    "        self.block_1 = nn.Sequential(\n",
    "            nn.Conv2d(in_channels=input_shape, \n",
    "                      out_channels=hidden_units, \n",
    "                      kernel_size=3, # how big is the square that's going over the image?\n",
    "                      stride=1, # default\n",
    "                      padding=1),# options = \"valid\" (no padding) or \"same\" (output has same shape as input) or int for specific number \n",
    "            nn.ReLU(),\n",
    "            nn.Conv2d(in_channels=hidden_units, \n",
    "                      out_channels=hidden_units,\n",
    "                      kernel_size=3,\n",
    "                      stride=1,\n",
    "                      padding=1),\n",
    "            nn.ReLU(),\n",
    "            nn.MaxPool2d(kernel_size=2,\n",
    "                         stride=2) # default stride value is same as kernel_size\n",
    "        )\n",
    "        self.block_2 = nn.Sequential(\n",
    "            nn.Conv2d(hidden_units, hidden_units, 3, padding=1),\n",
    "            nn.ReLU(),\n",
    "            nn.Conv2d(hidden_units, hidden_units, 3, padding=1),\n",
    "            nn.ReLU(),\n",
    "            nn.MaxPool2d(2)\n",
    "        )\n",
    "        self.classifier = nn.Sequential(\n",
    "            nn.Flatten(),\n",
    "            # Where did this in_features shape come from? \n",
    "            # It's because each layer of our network compresses and changes the shape of our inputs data.\n",
    "            nn.Linear(in_features=hidden_units*7*7, \n",
    "                      out_features=output_shape)\n",
    "        )\n",
    "    \n",
    "    def forward(self, x: torch.Tensor):\n",
    "        x = self.block_1(x)\n",
    "        # print(x.shape)\n",
    "        x = self.block_2(x)\n",
    "        # print(x.shape)\n",
    "        x = self.classifier(x)\n",
    "        # print(x.shape)\n",
    "        return x\n",
    "\n",
    "torch.manual_seed(42)\n",
    "model_2 = FashionMNISTModelV2(input_shape=1, \n",
    "    hidden_units=10, \n",
    "    output_shape=len(class_names)).to(device)\n",
    "model_2"
   ]
  },
  {
   "cell_type": "code",
   "execution_count": 72,
   "metadata": {},
   "outputs": [
    {
     "data": {
      "text/plain": [
       "FashionMNISTModelV2(\n",
       "  (conv_block_1): Sequential(\n",
       "    (0): Conv2d(1, 10, kernel_size=(3, 3), stride=(1, 1), padding=(1, 1))\n",
       "    (1): ReLU()\n",
       "    (2): Conv2d(10, 10, kernel_size=(3, 3), stride=(1, 1), padding=(1, 1))\n",
       "    (3): ReLU()\n",
       "    (4): MaxPool2d(kernel_size=2, stride=2, padding=0, dilation=1, ceil_mode=False)\n",
       "  )\n",
       "  (conv_block_2): Sequential(\n",
       "    (0): Conv2d(10, 10, kernel_size=(3, 3), stride=(1, 1), padding=(1, 1))\n",
       "    (1): ReLU()\n",
       "    (2): Conv2d(10, 10, kernel_size=(3, 3), stride=(1, 1), padding=(1, 1))\n",
       "    (3): ReLU()\n",
       "    (4): MaxPool2d(kernel_size=2, stride=2, padding=0, dilation=1, ceil_mode=False)\n",
       "  )\n",
       "  (classifier): Sequential(\n",
       "    (0): Flatten(start_dim=1, end_dim=-1)\n",
       "    (1): Linear(in_features=490, out_features=10, bias=True)\n",
       "  )\n",
       ")"
      ]
     },
     "execution_count": 72,
     "metadata": {},
     "output_type": "execute_result"
    }
   ],
   "source": [
    "torch.manual_seed(42)\n",
    "torch.cuda.manual_seed(42)\n",
    "\n",
    "model_2 = FashionMNISTModelV2(input_shape=1, hidden_units=10, output_shape=len(class_names)).to(device)\n",
    "model_2.to(device)"
   ]
  },
  {
   "cell_type": "code",
   "execution_count": 65,
   "metadata": {},
   "outputs": [
    {
     "name": "stdout",
     "output_type": "stream",
     "text": [
      "Output shape of Conv Block 1: torch.Size([1, 10, 14, 14])\n",
      "Output shape of Conv Block 2: torch.Size([1, 10, 7, 7])\n",
      "Output shape of classifier: torch.Size([1, 10])\n"
     ]
    },
    {
     "data": {
      "text/plain": [
       "tensor([[ 0.0423, -0.1045,  0.0787, -0.0463,  0.0038,  0.0248,  0.0077,  0.0058,\n",
       "          0.0042, -0.0346]], device='cuda:0', grad_fn=<AddmmBackward0>)"
      ]
     },
     "execution_count": 65,
     "metadata": {},
     "output_type": "execute_result"
    }
   ],
   "source": [
    "rand_image_tensor = torch.randn(1, 1, 28, 28)\n",
    "rand_image_tensor.shape\n",
    "model_2(rand_image_tensor.to(device))"
   ]
  },
  {
   "cell_type": "code",
   "execution_count": 40,
   "metadata": {},
   "outputs": [
    {
     "name": "stdout",
     "output_type": "stream",
     "text": [
      "Image batch shape: torch.Size([32, 3, 64, 64])\n",
      "Single image shape: torch.Size([3, 64, 64])\n",
      "Test Image: \n",
      " tensor([[[ 1.9269,  1.4873,  0.9007,  ...,  1.8446, -1.1845,  1.3835],\n",
      "         [ 1.4451,  0.8564,  2.2181,  ...,  0.3399,  0.7200,  0.4114],\n",
      "         [ 1.9312,  1.0119, -1.4364,  ..., -0.5558,  0.7043,  0.7099],\n",
      "         ...,\n",
      "         [-0.5610, -0.4830,  0.4770,  ..., -0.2713, -0.9537, -0.6737],\n",
      "         [ 0.3076, -0.1277,  0.0366,  ..., -2.0060,  0.2824, -0.8111],\n",
      "         [-1.5486,  0.0485, -0.7712,  ..., -0.1403,  0.9416, -0.0118]],\n",
      "\n",
      "        [[-0.5197,  1.8524,  1.8365,  ...,  0.8935, -1.5114, -0.8515],\n",
      "         [ 2.0818,  1.0677, -1.4277,  ...,  1.6612, -2.6223, -0.4319],\n",
      "         [-0.1010, -0.4388, -1.9775,  ...,  0.2106,  0.2536, -0.7318],\n",
      "         ...,\n",
      "         [ 0.2779,  0.7342, -0.3736,  ..., -0.4601,  0.1815,  0.1850],\n",
      "         [ 0.7205, -0.2833,  0.0937,  ..., -0.1002, -2.3609,  2.2465],\n",
      "         [-1.3242, -0.1973,  0.2920,  ...,  0.5409,  0.6940,  1.8563]],\n",
      "\n",
      "        [[-0.7978,  1.0261,  1.1465,  ...,  1.2134,  0.9354, -0.0780],\n",
      "         [-1.4647, -1.9571,  0.1017,  ..., -1.9986, -0.7409,  0.7011],\n",
      "         [-1.3938,  0.8466, -1.7191,  ..., -1.1867,  0.1320,  0.3407],\n",
      "         ...,\n",
      "         [ 0.8206, -0.3745,  1.2499,  ..., -0.0676,  0.0385,  0.6335],\n",
      "         [-0.5589, -0.3393,  0.2347,  ...,  2.1181,  2.4569,  1.3083],\n",
      "         [-0.4092,  1.5199,  0.2401,  ..., -0.2558,  0.7870,  0.9924]]])\n"
     ]
    }
   ],
   "source": [
    "torch.manual_seed(42)\n",
    "torch.cuda.manual_seed(42)\n",
    "\n",
    "images = torch.randn(32, 3, 64, 64)\n",
    "\n",
    "test_image = images[0]\n",
    "\n",
    "print(f\"Image batch shape: {images.shape}\")\n",
    "print(f\"Single image shape: {test_image.shape}\")\n",
    "print(f\"Test Image: \\n {test_image}\")\n"
   ]
  },
  {
   "cell_type": "code",
   "execution_count": 41,
   "metadata": {},
   "outputs": [
    {
     "name": "stderr",
     "output_type": "stream",
     "text": [
      "Clipping input data to the valid range for imshow with RGB data ([0..1] for floats or [0..255] for integers).\n"
     ]
    },
    {
     "data": {
      "text/plain": [
       "<matplotlib.image.AxesImage at 0x16ccef665d0>"
      ]
     },
     "execution_count": 41,
     "metadata": {},
     "output_type": "execute_result"
    },
    {
     "data": {
      "image/png": "[encoded data removed]",
      "text/plain": [
       "<Figure size 640x480 with 1 Axes>"
      ]
     },
     "metadata": {},
     "output_type": "display_data"
    }
   ],
   "source": [
    "plt.imshow(test_image.permute(1, 2, 0))"
   ]
  },
  {
   "cell_type": "code",
   "execution_count": 42,
   "metadata": {},
   "outputs": [
    {
     "name": "stdout",
     "output_type": "stream",
     "text": [
      "Conv Layer Output Shape: torch.Size([10, 62, 62])\n"
     ]
    },
    {
     "data": {
      "text/plain": [
       "tensor([[[-2.8778e-01, -6.0596e-02, -5.6306e-02,  ...,  2.8654e-01,\n",
       "           6.6224e-01, -2.3216e-01],\n",
       "         [-9.8911e-01, -4.0099e-01,  4.1832e-01,  ...,  4.7459e-01,\n",
       "          -1.8551e-01, -5.7622e-01],\n",
       "         [-4.1340e-02, -2.3277e-01,  3.7418e-01,  ...,  2.8255e-02,\n",
       "           1.4923e-01,  1.4236e-01],\n",
       "         ...,\n",
       "         [-8.0374e-01, -7.6687e-01, -5.9457e-02,  ...,  1.7452e-01,\n",
       "           4.2594e-01, -4.8341e-01],\n",
       "         [-1.4512e-01, -1.1566e-01,  6.1783e-01,  ...,  2.4126e-01,\n",
       "          -3.6626e-01,  3.5645e-01],\n",
       "         [ 3.6096e-02,  1.5214e-01,  2.3123e-01,  ...,  3.0904e-01,\n",
       "          -4.9680e-01, -7.2258e-01]],\n",
       "\n",
       "        [[-1.0853e+00, -1.6079e+00,  1.3346e-01,  ...,  2.1698e-01,\n",
       "          -1.7643e+00,  2.5263e-01],\n",
       "         [-8.2507e-01,  6.3866e-01,  1.8845e-01,  ..., -1.0936e-01,\n",
       "           4.8068e-01,  8.4869e-01],\n",
       "         [ 6.4927e-01, -4.2061e-03, -4.9991e-01,  ...,  5.8356e-01,\n",
       "           2.4611e-01,  6.6233e-01],\n",
       "         ...,\n",
       "         [ 9.8860e-02,  1.1661e+00,  3.1532e-01,  ..., -6.5450e-01,\n",
       "          -1.9585e-02,  2.4397e-01],\n",
       "         [-5.9820e-01,  3.7339e-01, -7.2705e-01,  ..., -3.1185e-02,\n",
       "          -8.9892e-01,  2.9192e-01],\n",
       "         [-1.8412e-01,  2.2085e-01,  1.6990e-01,  ...,  4.7418e-01,\n",
       "          -9.0971e-01,  7.9518e-01]],\n",
       "\n",
       "        [[ 3.9605e-02,  6.7841e-01, -9.6515e-01,  ..., -2.8578e-01,\n",
       "          -2.9320e-01, -1.8889e-01],\n",
       "         [-1.5027e+00, -1.1401e+00, -2.0217e-01,  ...,  2.5681e-01,\n",
       "          -9.3105e-01,  6.8724e-02],\n",
       "         [-4.1801e-01,  2.6299e-01,  3.3114e-02,  ...,  2.7162e-01,\n",
       "          -6.0643e-01, -7.4065e-01],\n",
       "         ...,\n",
       "         [ 5.3659e-02, -1.6118e-01, -2.2006e-01,  ...,  4.0253e-01,\n",
       "           2.1769e-01,  2.0759e-01],\n",
       "         [ 8.3423e-02,  2.5296e-01, -4.3232e-01,  ...,  1.1411e+00,\n",
       "           9.1973e-01,  3.2513e-02],\n",
       "         [ 2.0770e-01,  6.7494e-01,  1.7256e-01,  ..., -4.1328e-01,\n",
       "          -1.6368e-01, -1.3886e-01]],\n",
       "\n",
       "        ...,\n",
       "\n",
       "        [[-6.5893e-01, -1.0476e+00,  1.0067e+00,  ..., -1.7439e-01,\n",
       "           3.5072e-01,  2.5077e-01],\n",
       "         [ 1.3226e+00,  1.9803e+00, -6.4183e-01,  ...,  3.2681e-01,\n",
       "           1.5939e+00, -1.0821e-01],\n",
       "         [ 8.7122e-01, -1.0276e+00,  4.5702e-01,  ...,  5.1113e-01,\n",
       "           1.0244e+00,  8.7522e-01],\n",
       "         ...,\n",
       "         [ 1.3555e+00,  1.3009e+00,  4.9802e-01,  ..., -1.0216e-01,\n",
       "          -5.6769e-01,  8.4543e-02],\n",
       "         [ 1.5033e-01, -3.4481e-01,  1.0851e+00,  ..., -1.6738e-01,\n",
       "          -5.1884e-01,  1.9113e-01],\n",
       "         [-2.3805e-02, -4.3101e-01,  6.8124e-02,  ...,  1.0441e+00,\n",
       "           4.1791e-01,  6.0961e-01]],\n",
       "\n",
       "        [[-5.7891e-02,  6.3499e-02, -3.7689e-01,  ..., -7.3454e-01,\n",
       "           7.6985e-01, -6.7518e-01],\n",
       "         [ 2.9175e-01,  1.1637e-04, -6.0476e-01,  ..., -1.1983e+00,\n",
       "           6.5636e-01, -5.4662e-01],\n",
       "         [ 2.1523e-01, -1.9851e-01, -1.3285e-01,  ...,  7.5264e-01,\n",
       "          -1.5505e+00,  4.5457e-01],\n",
       "         ...,\n",
       "         [-2.0348e-01, -4.8311e-01, -3.0158e-02,  ..., -5.2867e-01,\n",
       "          -8.0491e-01,  7.7403e-01],\n",
       "         [ 7.5117e-01, -1.5956e-01,  2.5034e-01,  ..., -4.0541e-01,\n",
       "           2.8248e-01, -4.3361e-01],\n",
       "         [-2.1132e-01, -4.4753e-01, -1.0997e-01,  ..., -7.6028e-02,\n",
       "           7.9822e-01, -6.3137e-01]],\n",
       "\n",
       "        [[ 8.6642e-01,  1.6339e+00,  5.4498e-02,  ...,  2.3448e-01,\n",
       "           5.0939e-01,  8.1898e-01],\n",
       "         [ 1.0650e-01,  3.0274e-01, -7.4020e-01,  ...,  8.3167e-01,\n",
       "          -4.6203e-01,  3.4506e-01],\n",
       "         [ 1.1760e-02, -6.1708e-02, -7.6054e-01,  ..., -8.1317e-01,\n",
       "           1.0693e+00, -9.6907e-01],\n",
       "         ...,\n",
       "         [-1.1468e+00, -1.3791e-01, -3.6390e-01,  ...,  5.5073e-01,\n",
       "           2.0598e-01,  1.0710e-01],\n",
       "         [-3.4261e-01, -1.6038e-02, -6.6151e-01,  ..., -4.2419e-01,\n",
       "           4.4527e-01, -1.0111e-01],\n",
       "         [ 4.4487e-02,  9.7506e-02, -3.1829e-01,  ...,  6.0565e-02,\n",
       "           5.3990e-01, -4.2942e-01]]], grad_fn=<SqueezeBackward1>)"
      ]
     },
     "execution_count": 42,
     "metadata": {},
     "output_type": "execute_result"
    }
   ],
   "source": [
    "conv_layer = nn.Conv2d(in_channels=3, out_channels=10, kernel_size=3, stride=1, padding=0)\n",
    "\n",
    "conv_output = conv_layer(test_image)\n",
    "\n",
    "print(f\"Conv Layer Output Shape: {conv_output.shape}\")\n",
    "conv_output"
   ]
  },
  {
   "cell_type": "code",
   "execution_count": 43,
   "metadata": {},
   "outputs": [
    {
     "name": "stdout",
     "output_type": "stream",
     "text": [
      "Test image original shape: torch.Size([3, 64, 64])\n",
      "Conv Layer Output Shape: torch.Size([10, 62, 62])\n",
      "Max Pool Layer Output Shape: torch.Size([10, 31, 31])\n"
     ]
    }
   ],
   "source": [
    "print(f\"Test image original shape: {test_image.shape}\")\n",
    "\n",
    "max_pool_layer = nn.MaxPool2d(kernel_size=2)\n",
    "\n",
    "max_pool_output = max_pool_layer(conv_output)\n",
    "print(f\"Conv Layer Output Shape: {conv_output.shape}\")\n",
    "print(f\"Max Pool Layer Output Shape: {max_pool_output.shape}\")\n"
   ]
  },
  {
   "cell_type": "code",
   "execution_count": 44,
   "metadata": {},
   "outputs": [
    {
     "name": "stdout",
     "output_type": "stream",
     "text": [
      "Random Tensor: \n",
      " tensor([[[[0.3367, 0.1288],\n",
      "          [0.2345, 0.2303]]]])\n",
      "Max Pool Layer Output Shape: torch.Size([1, 1, 1, 1])\n",
      "Max Pool Layer Output: \n",
      " tensor([[[[0.3367]]]])\n"
     ]
    }
   ],
   "source": [
    "torch.manual_seed(42)\n",
    "torch.cuda.manual_seed(42)\n",
    "\n",
    "random_tensor = torch.randn(1, 1, 2, 2)\n",
    "\n",
    "max_pool_layer = nn.MaxPool2d(kernel_size=2)\n",
    "\n",
    "max_pool_output = max_pool_layer(random_tensor)\n",
    "print(f\"Random Tensor: \\n {random_tensor}\")\n",
    "print(f\"Max Pool Layer Output Shape: {max_pool_output.shape}\")\n",
    "print(f\"Max Pool Layer Output: \\n {max_pool_output}\")"
   ]
  },
  {
   "cell_type": "code",
   "execution_count": 78,
   "metadata": {},
   "outputs": [],
   "source": [
    "from helper_functions import accuracy_fn\n",
    "\n",
    "loss_fn = nn.CrossEntropyLoss()\n",
    "optimizer = torch.optim.SGD(params=model_2.parameters(), lr=0.1)"
   ]
  },
  {
   "cell_type": "code",
   "execution_count": 79,
   "metadata": {},
   "outputs": [
    {
     "name": "stderr",
     "output_type": "stream",
     "text": [
      "  0%|          | 0/3 [00:00<?, ?it/s]"
     ]
    },
    {
     "name": "stdout",
     "output_type": "stream",
     "text": [
      "Epoch: 0\n",
      "---------\n",
      "Train loss: 0.59461 | Train accuracy: 78.52%\n"
     ]
    },
    {
     "name": "stderr",
     "output_type": "stream",
     "text": [
      " 33%|███▎      | 1/3 [00:18<00:37, 18.92s/it]"
     ]
    },
    {
     "name": "stdout",
     "output_type": "stream",
     "text": [
      "Test loss: 0.39302 | Test accuracy: 85.96%\n",
      "\n",
      "Epoch: 1\n",
      "---------\n",
      "Train loss: 0.36248 | Train accuracy: 87.02%\n"
     ]
    },
    {
     "name": "stderr",
     "output_type": "stream",
     "text": [
      " 67%|██████▋   | 2/3 [00:38<00:19, 19.40s/it]"
     ]
    },
    {
     "name": "stdout",
     "output_type": "stream",
     "text": [
      "Test loss: 0.35255 | Test accuracy: 86.77%\n",
      "\n",
      "Epoch: 2\n",
      "---------\n",
      "Train loss: 0.32417 | Train accuracy: 88.17%\n"
     ]
    },
    {
     "name": "stderr",
     "output_type": "stream",
     "text": [
      "100%|██████████| 3/3 [00:58<00:00, 19.54s/it]"
     ]
    },
    {
     "name": "stdout",
     "output_type": "stream",
     "text": [
      "Test loss: 0.31974 | Test accuracy: 88.34%\n",
      "\n",
      "\n",
      "Train time on cuda: 58.627 seconds\n"
     ]
    },
    {
     "name": "stderr",
     "output_type": "stream",
     "text": [
      "\n"
     ]
    }
   ],
   "source": [
    "torch.manual_seed(42)\n",
    "\n",
    "# Measure time\n",
    "from timeit import default_timer as timer\n",
    "train_time_start_model_2 = timer()\n",
    "\n",
    "# Train and test model \n",
    "epochs = 3\n",
    "for epoch in tqdm(range(epochs)):\n",
    "    print(f\"Epoch: {epoch}\\n---------\")\n",
    "    train_step(data_loader=train_dataloader, \n",
    "        model=model_2, \n",
    "        loss_fn=loss_fn,\n",
    "        optimizer=optimizer,\n",
    "        accuracy_fn=accuracy_fn,\n",
    "        device=device\n",
    "    )\n",
    "    test_step(data_loader=test_dataloader,\n",
    "        model=model_2,\n",
    "        loss_fn=loss_fn,\n",
    "        accuracy_fn=accuracy_fn,\n",
    "        device=device\n",
    "    )\n",
    "\n",
    "train_time_end_model_2 = timer()\n",
    "total_train_time_model_2 = print_train_time(start=train_time_start_model_2,\n",
    "                                           end=train_time_end_model_2,\n",
    "                                           device=device)"
   ]
  },
  {
   "cell_type": "code",
   "execution_count": 80,
   "metadata": {},
   "outputs": [
    {
     "name": "stderr",
     "output_type": "stream",
     "text": [
      "100%|██████████| 313/313 [00:02<00:00, 151.08it/s]\n"
     ]
    },
    {
     "data": {
      "text/plain": [
       "{'model_name': 'FashionMNISTModelV2',\n",
       " 'model_loss': 0.3197421133518219,\n",
       " 'model_acc': 88.33865814696486}"
      ]
     },
     "execution_count": 80,
     "metadata": {},
     "output_type": "execute_result"
    }
   ],
   "source": [
    "model_2_results = eval_model(\n",
    "    model=model_2,\n",
    "    data_loader=test_dataloader,\n",
    "    loss_fn=loss_fn,\n",
    "    accuracy_fn=accuracy_fn,\n",
    "    device=device\n",
    ")\n",
    "model_2_results"
   ]
  },
  {
   "cell_type": "code",
   "execution_count": 81,
   "metadata": {},
   "outputs": [
    {
     "data": {
      "text/plain": [
       "{'model_name': 'FashionMNISTModelV0',\n",
       " 'model_loss': 0.4766390025615692,\n",
       " 'model_acc': 83.42651757188499}"
      ]
     },
     "execution_count": 81,
     "metadata": {},
     "output_type": "execute_result"
    }
   ],
   "source": [
    "model_0_results"
   ]
  },
  {
   "cell_type": "code",
   "execution_count": 82,
   "metadata": {},
   "outputs": [
    {
     "data": {
      "text/html": [
       "<div>\n",
       "<style scoped>\n",
       "    .dataframe tbody tr th:only-of-type {\n",
       "        vertical-align: middle;\n",
       "    }\n",
       "\n",
       "    .dataframe tbody tr th {\n",
       "        vertical-align: top;\n",
       "    }\n",
       "\n",
       "    .dataframe thead th {\n",
       "        text-align: right;\n",
       "    }\n",
       "</style>\n",
       "<table border=\"1\" class=\"dataframe\">\n",
       "  <thead>\n",
       "    <tr style=\"text-align: right;\">\n",
       "      <th></th>\n",
       "      <th>model_name</th>\n",
       "      <th>model_loss</th>\n",
       "      <th>model_acc</th>\n",
       "    </tr>\n",
       "  </thead>\n",
       "  <tbody>\n",
       "    <tr>\n",
       "      <th>0</th>\n",
       "      <td>FashionMNISTModelV0</td>\n",
       "      <td>0.476639</td>\n",
       "      <td>83.426518</td>\n",
       "    </tr>\n",
       "    <tr>\n",
       "      <th>1</th>\n",
       "      <td>FashionMNISTModelV1</td>\n",
       "      <td>0.442473</td>\n",
       "      <td>84.414936</td>\n",
       "    </tr>\n",
       "    <tr>\n",
       "      <th>2</th>\n",
       "      <td>FashionMNISTModelV2</td>\n",
       "      <td>0.319742</td>\n",
       "      <td>88.338658</td>\n",
       "    </tr>\n",
       "  </tbody>\n",
       "</table>\n",
       "</div>"
      ],
      "text/plain": [
       "            model_name  model_loss  model_acc\n",
       "0  FashionMNISTModelV0    0.476639  83.426518\n",
       "1  FashionMNISTModelV1    0.442473  84.414936\n",
       "2  FashionMNISTModelV2    0.319742  88.338658"
      ]
     },
     "execution_count": 82,
     "metadata": {},
     "output_type": "execute_result"
    }
   ],
   "source": [
    "import pandas as pd\n",
    "\n",
    "compare_results = pd.DataFrame([model_0_results, model_1_results, model_2_results])\n",
    "compare_results"
   ]
  },
  {
   "cell_type": "code",
   "execution_count": 87,
   "metadata": {},
   "outputs": [
    {
     "data": {
      "text/html": [
       "<div>\n",
       "<style scoped>\n",
       "    .dataframe tbody tr th:only-of-type {\n",
       "        vertical-align: middle;\n",
       "    }\n",
       "\n",
       "    .dataframe tbody tr th {\n",
       "        vertical-align: top;\n",
       "    }\n",
       "\n",
       "    .dataframe thead th {\n",
       "        text-align: right;\n",
       "    }\n",
       "</style>\n",
       "<table border=\"1\" class=\"dataframe\">\n",
       "  <thead>\n",
       "    <tr style=\"text-align: right;\">\n",
       "      <th></th>\n",
       "      <th>model_name</th>\n",
       "      <th>model_loss</th>\n",
       "      <th>model_acc</th>\n",
       "      <th>training_time</th>\n",
       "    </tr>\n",
       "  </thead>\n",
       "  <tbody>\n",
       "    <tr>\n",
       "      <th>0</th>\n",
       "      <td>FashionMNISTModelV0</td>\n",
       "      <td>0.476639</td>\n",
       "      <td>83.426518</td>\n",
       "      <td>43.720040</td>\n",
       "    </tr>\n",
       "    <tr>\n",
       "      <th>1</th>\n",
       "      <td>FashionMNISTModelV1</td>\n",
       "      <td>0.442473</td>\n",
       "      <td>84.414936</td>\n",
       "      <td>43.720040</td>\n",
       "    </tr>\n",
       "    <tr>\n",
       "      <th>2</th>\n",
       "      <td>FashionMNISTModelV2</td>\n",
       "      <td>0.319742</td>\n",
       "      <td>88.338658</td>\n",
       "      <td>58.626518</td>\n",
       "    </tr>\n",
       "  </tbody>\n",
       "</table>\n",
       "</div>"
      ],
      "text/plain": [
       "            model_name  model_loss  model_acc  training_time\n",
       "0  FashionMNISTModelV0    0.476639  83.426518      43.720040\n",
       "1  FashionMNISTModelV1    0.442473  84.414936      43.720040\n",
       "2  FashionMNISTModelV2    0.319742  88.338658      58.626518"
      ]
     },
     "execution_count": 87,
     "metadata": {},
     "output_type": "execute_result"
    }
   ],
   "source": [
    "compare_results[\"training_time\"] = [total_train_time_model_0, total_train_time_model_1, total_train_time_model_2]\n",
    "compare_results"
   ]
  },
  {
   "cell_type": "code",
   "execution_count": 94,
   "metadata": {},
   "outputs": [
    {
     "data": {
      "text/plain": [
       "Text(0, 0.5, 'Model')"
      ]
     },
     "execution_count": 94,
     "metadata": {},
     "output_type": "execute_result"
    },
    {
     "data": {
      "image/png": "[encoded data removed]",
      "text/plain": [
       "<Figure size 640x480 with 1 Axes>"
      ]
     },
     "metadata": {},
     "output_type": "display_data"
    }
   ],
   "source": [
    "compare_results.set_index(\"model_name\")[\"model_acc\"].plot(kind=\"barh\")\n",
    "plt.xlabel(\"Accuracy (%)\")\n",
    "plt.ylabel(\"Model\")"
   ]
  },
  {
   "cell_type": "code",
   "execution_count": 95,
   "metadata": {},
   "outputs": [],
   "source": [
    "def make_predictions(model: torch.nn.Module, data: list, device: torch.device = device):\n",
    "    pred_probs = []\n",
    "    model.to(device)\n",
    "    model.eval()\n",
    "    with torch.inference_mode():\n",
    "        for sample in data:\n",
    "            # Prepare sample\n",
    "            sample = torch.unsqueeze(sample, dim=0).to(device) # Add an extra dimension and send sample to device\n",
    "\n",
    "            # Forward pass (model outputs raw logit)\n",
    "            pred_logit = model(sample)\n",
    "\n",
    "            # Get prediction probability (logit -> prediction probability)\n",
    "            pred_prob = torch.softmax(pred_logit.squeeze(), dim=0)\n",
    "\n",
    "            # Get pred_prob off GPU for further calculations\n",
    "            pred_probs.append(pred_prob.cpu())\n",
    "            \n",
    "    # Stack the pred_probs to turn list into a tensor\n",
    "    return torch.stack(pred_probs)\n",
    "\n"
   ]
  },
  {
   "cell_type": "code",
   "execution_count": 103,
   "metadata": {},
   "outputs": [
    {
     "data": {
      "text/plain": [
       "torch.Size([1, 28, 28])"
      ]
     },
     "execution_count": 103,
     "metadata": {},
     "output_type": "execute_result"
    }
   ],
   "source": [
    "import random\n",
    "# random.seed(42)\n",
    "test_samples = []\n",
    "test_labels = []\n",
    "for sample, label in random.sample(list(test_data), k=9):\n",
    "    test_samples.append(sample)\n",
    "    test_labels.append(label)\n",
    "\n",
    "test_samples[0].shape"
   ]
  },
  {
   "cell_type": "code",
   "execution_count": 104,
   "metadata": {},
   "outputs": [
    {
     "data": {
      "text/plain": [
       "Text(0.5, 1.0, 'Ankle boot')"
      ]
     },
     "execution_count": 104,
     "metadata": {},
     "output_type": "execute_result"
    },
    {
     "data": {
      "image/png": "[encoded data removed]",
      "text/plain": [
       "<Figure size 640x480 with 1 Axes>"
      ]
     },
     "metadata": {},
     "output_type": "display_data"
    }
   ],
   "source": [
    "plt.imshow(test_samples[0].squeeze(), cmap=\"gray\")\n",
    "plt.title(class_names[test_labels[0]])"
   ]
  },
  {
   "cell_type": "code",
   "execution_count": 105,
   "metadata": {},
   "outputs": [
    {
     "data": {
      "text/plain": [
       "tensor([[3.6002e-05, 4.9214e-06, 3.9341e-06, 4.9649e-05, 1.2451e-06, 2.1863e-02,\n",
       "         8.2207e-06, 1.2549e-02, 1.7006e-03, 9.6378e-01],\n",
       "        [4.4259e-05, 1.0701e-06, 3.8275e-05, 9.9341e-06, 3.4841e-06, 8.8931e-04,\n",
       "         2.3590e-06, 9.7242e-01, 1.6370e-03, 2.4949e-02]])"
      ]
     },
     "execution_count": 105,
     "metadata": {},
     "output_type": "execute_result"
    }
   ],
   "source": [
    "pred_probs = make_predictions(model=model_2, data=test_samples, device=device)\n",
    "\n",
    "pred_probs[:2]"
   ]
  },
  {
   "cell_type": "code",
   "execution_count": 106,
   "metadata": {},
   "outputs": [
    {
     "data": {
      "text/plain": [
       "tensor([9, 7, 2, 0, 1, 0, 3, 5, 4])"
      ]
     },
     "execution_count": 106,
     "metadata": {},
     "output_type": "execute_result"
    }
   ],
   "source": [
    "pred_classes = pred_probs.argmax(dim=1)\n",
    "pred_classes"
   ]
  },
  {
   "cell_type": "code",
   "execution_count": 107,
   "metadata": {},
   "outputs": [
    {
     "data": {
      "image/png": "[encoded data removed]",
      "text/plain": [
       "<Figure size 900x900 with 9 Axes>"
      ]
     },
     "metadata": {},
     "output_type": "display_data"
    }
   ],
   "source": [
    "plt.figure(figsize=(9, 9))\n",
    "nrows = 3\n",
    "ncols = 3\n",
    "for i, sample in enumerate(test_samples):\n",
    "    plt.subplot(nrows, ncols, i+1)\n",
    "    plt.imshow(sample.squeeze(), cmap=\"gray\")\n",
    "    pred_label = class_names[pred_classes[i]]\n",
    "    truth_label = class_names[test_labels[i]]\n",
    "    title_text = f\"Pred: {pred_label} | Truth: {truth_label}\"\n",
    "    if pred_label == truth_label:\n",
    "        plt.title(title_text, fontsize=10, c=\"g\")\n",
    "    else:\n",
    "        plt.title(title_text, fontsize=10, c=\"r\")\n",
    "    plt.axis(False)"
   ]
  },
  {
   "cell_type": "code",
   "execution_count": 111,
   "metadata": {},
   "outputs": [
    {
     "name": "stderr",
     "output_type": "stream",
     "text": [
      "Making predictions...: 100%|██████████| 313/313 [00:01<00:00, 165.75it/s]\n"
     ]
    },
    {
     "data": {
      "text/plain": [
       "tensor([9, 2, 1, 1, 6, 1, 4, 6, 5, 7])"
      ]
     },
     "execution_count": 111,
     "metadata": {},
     "output_type": "execute_result"
    }
   ],
   "source": [
    "import tqdm.auto\n",
    "from tqdm.auto import tqdm \n",
    "\n",
    "\n",
    "y_preds = []\n",
    "model_2.eval()\n",
    "with torch.inference_mode():\n",
    "    for X, y in tqdm(test_dataloader, desc=\"Making predictions...\"):\n",
    "        # Transfer data to device\n",
    "        X, y = X.to(device), y.to(device)\n",
    "        # Forward pass\n",
    "        test_pred = model_2(X)\n",
    "        y_preds.append(test_pred.argmax(dim=1).cpu())\n",
    "\n",
    "y_pred_tensor = torch.cat(y_preds)\n",
    "y_pred_tensor[:10]\n"
   ]
  },
  {
   "cell_type": "code",
   "execution_count": 116,
   "metadata": {},
   "outputs": [],
   "source": [
    "try:\n",
    "    import torchmetrics, mlxtend\n",
    "except:\n",
    "    %pip install -q torchmetrics mlxtend"
   ]
  },
  {
   "cell_type": "code",
   "execution_count": 118,
   "metadata": {},
   "outputs": [
    {
     "data": {
      "image/png": "[encoded data removed]",
      "text/plain": [
       "<Figure size 1000x700 with 1 Axes>"
      ]
     },
     "metadata": {},
     "output_type": "display_data"
    }
   ],
   "source": [
    "from torchmetrics import ConfusionMatrix\n",
    "from mlxtend.plotting import plot_confusion_matrix\n",
    "\n",
    "confmat = ConfusionMatrix(num_classes=len(class_names), task='multiclass')\n",
    "confmat_tensor = confmat(preds=y_pred_tensor,\n",
    "                         target=test_data.targets)\n",
    "\n",
    "confmat_tensor\n",
    "\n",
    "fig, ax = plot_confusion_matrix(\n",
    "    conf_mat=confmat_tensor.numpy(), \n",
    "    class_names=class_names, \n",
    "    figsize=(10, 7)\n",
    ")\n"
   ]
  },
  {
   "cell_type": "code",
   "execution_count": 120,
   "metadata": {},
   "outputs": [],
   "source": [
    "from pathlib import Path\n",
    "\n",
    "MODEL_PATH = Path(\"models\") / \"03_pytorch_computer_vision.pth\"\n",
    "MODEL_PATH.parent.mkdir(parents=True, exist_ok=True)\n",
    "torch.save(obj=model_2.state_dict(), f=MODEL_PATH)"
   ]
  },
  {
   "cell_type": "code",
   "execution_count": 122,
   "metadata": {},
   "outputs": [
    {
     "data": {
      "text/plain": [
       "<All keys matched successfully>"
      ]
     },
     "execution_count": 122,
     "metadata": {},
     "output_type": "execute_result"
    }
   ],
   "source": [
    "torch.manual_seed(42)\n",
    "\n",
    "loaded_model_2 = FashionMNISTModelV2(input_shape=1, hidden_units=10, output_shape=len(class_names))\n",
    "loaded_model_2.load_state_dict(torch.load(f=MODEL_PATH))"
   ]
  },
  {
   "cell_type": "code",
   "execution_count": 123,
   "metadata": {},
   "outputs": [
    {
     "data": {
      "text/plain": [
       "OrderedDict([('block_1.0.weight',\n",
       "              tensor([[[[ 2.9389e-01,  3.0019e-01, -4.7319e-01],\n",
       "                        [ 1.5915e-01,  2.5720e-01,  3.0263e-02],\n",
       "                        [-3.0095e-01,  1.9285e-01,  2.5182e-01]]],\n",
       "              \n",
       "              \n",
       "                      [[[-4.3050e-01,  5.1872e-01, -1.2424e-01],\n",
       "                        [ 1.0576e-01,  4.6301e-01,  1.6379e-01],\n",
       "                        [-8.0639e-02,  3.6754e-01,  1.3679e-02]]],\n",
       "              \n",
       "              \n",
       "                      [[[-2.9441e-01, -1.2825e-01, -5.9596e-02],\n",
       "                        [-6.8132e-01, -6.5439e-01,  1.7583e-01],\n",
       "                        [-8.0596e-01, -6.7305e-01, -1.7400e-01]]],\n",
       "              \n",
       "              \n",
       "                      [[[-7.7055e-01, -8.7628e-01, -4.4552e-01],\n",
       "                        [ 2.9807e-01, -4.7847e-01,  2.7415e-01],\n",
       "                        [ 2.9567e-01, -1.0021e-01,  3.1744e-01]]],\n",
       "              \n",
       "              \n",
       "                      [[[ 5.4003e-04,  3.4852e-01, -5.4549e-02],\n",
       "                        [-1.2207e-01,  2.3538e-01, -9.5850e-02],\n",
       "                        [ 6.1999e-02,  3.1847e-01,  1.4311e-01]]],\n",
       "              \n",
       "              \n",
       "                      [[[-1.4661e-01,  1.8572e-01,  5.7946e-02],\n",
       "                        [ 1.7047e-01, -2.0347e-01, -3.2964e-01],\n",
       "                        [-1.2932e-01, -2.5584e-01,  2.5806e-01]]],\n",
       "              \n",
       "              \n",
       "                      [[[ 2.3749e-02,  3.5427e-02, -1.0665e-01],\n",
       "                        [ 2.4475e-02,  2.1547e-01, -2.6089e-01],\n",
       "                        [-6.5998e-02, -4.5227e-01, -1.0537e-01]]],\n",
       "              \n",
       "              \n",
       "                      [[[-1.4644e-01, -1.3419e-02, -1.9672e-01],\n",
       "                        [ 3.0744e-01, -2.5328e-01, -2.4507e-01],\n",
       "                        [-1.5068e-01,  3.7004e-01,  2.3771e-01]]],\n",
       "              \n",
       "              \n",
       "                      [[[ 4.4660e-01, -3.3289e-01, -5.3341e-01],\n",
       "                        [-2.5694e-01, -2.8881e-01,  6.0323e-02],\n",
       "                        [ 3.4494e-01,  5.1795e-01, -6.8026e-02]]],\n",
       "              \n",
       "              \n",
       "                      [[[-2.2674e-01,  1.7606e-01, -1.3478e-01],\n",
       "                        [ 2.0221e-01, -8.0035e-02,  1.8995e-01],\n",
       "                        [-2.5909e-01, -1.6844e-01,  1.0092e-01]]]])),\n",
       "             ('block_1.0.bias',\n",
       "              tensor([-0.0152,  0.1175,  0.2530,  0.2456, -0.4750, -0.2028,  0.2137, -0.0926,\n",
       "                      -0.0636, -0.3234])),\n",
       "             ('block_1.2.weight',\n",
       "              tensor([[[[ 7.6858e-02,  8.3402e-03, -3.9154e-02],\n",
       "                        [-1.4207e-01, -2.3392e-01, -2.4590e-01],\n",
       "                        [-1.0626e-01, -2.5193e-01, -2.1401e-01]],\n",
       "              \n",
       "                       [[-1.0687e-01,  5.6350e-03, -7.7157e-02],\n",
       "                        [-1.9423e-01, -2.9897e-01, -2.7315e-01],\n",
       "                        [-1.2316e-01, -1.9859e-01, -2.3067e-01]],\n",
       "              \n",
       "                       [[-1.5689e-02,  5.7509e-02,  1.5308e-01],\n",
       "                        [ 8.2693e-02,  3.0325e-01,  2.2750e-01],\n",
       "                        [-9.1543e-02,  4.8872e-02,  1.2619e-01]],\n",
       "              \n",
       "                       [[-1.8813e-01, -3.1140e-03, -1.8526e-01],\n",
       "                        [ 3.3346e-02,  1.4504e-02, -1.0511e-01],\n",
       "                        [ 1.4984e-01,  5.3458e-02,  7.0771e-02]],\n",
       "              \n",
       "                       [[-1.1584e-01, -1.1830e-01,  1.6487e-02],\n",
       "                        [-4.7101e-02,  3.1243e-02, -1.0174e-01],\n",
       "                        [ 7.3677e-02, -7.5248e-02, -1.6721e-02]],\n",
       "              \n",
       "                       [[ 2.2381e-02,  5.4870e-02,  8.4536e-02],\n",
       "                        [ 9.6229e-02, -8.3569e-02,  2.8020e-02],\n",
       "                        [-4.5098e-02, -1.2112e-02, -7.7371e-02]],\n",
       "              \n",
       "                       [[ 1.8409e-01, -4.6240e-02, -1.7371e-02],\n",
       "                        [ 1.5322e-01,  9.1100e-02, -5.4614e-02],\n",
       "                        [ 8.0245e-02, -5.1747e-03, -9.0029e-02]],\n",
       "              \n",
       "                       [[-8.9197e-02,  4.6585e-02, -1.1723e-02],\n",
       "                        [-5.4184e-02,  8.8799e-02,  1.6646e-02],\n",
       "                        [-3.9157e-02, -6.2232e-02, -2.9722e-03]],\n",
       "              \n",
       "                       [[ 1.2167e-01,  4.4112e-04, -5.0655e-02],\n",
       "                        [ 8.3345e-06, -5.2013e-02,  5.3500e-02],\n",
       "                        [ 1.4801e-01, -8.3869e-02,  3.5306e-03]],\n",
       "              \n",
       "                       [[ 5.4454e-02,  1.9114e-02, -3.7529e-02],\n",
       "                        [ 5.5015e-02,  5.5394e-02,  3.9422e-02],\n",
       "                        [-1.8523e-02, -2.7910e-02,  1.1270e-02]]],\n",
       "              \n",
       "              \n",
       "                      [[[ 1.7433e-02, -6.6637e-04,  1.0919e-01],\n",
       "                        [ 1.1771e-01, -6.9304e-03, -3.4483e-02],\n",
       "                        [ 3.7803e-03, -4.2337e-02, -4.5632e-02]],\n",
       "              \n",
       "                       [[ 7.4233e-02, -5.0275e-02, -2.9026e-02],\n",
       "                        [ 1.1436e-01,  3.7340e-02, -4.6906e-02],\n",
       "                        [-1.2468e-01, -1.3564e-01, -1.9232e-01]],\n",
       "              \n",
       "                       [[-3.5180e-02,  3.0666e-02,  6.0506e-02],\n",
       "                        [ 4.9535e-02, -9.5113e-02, -5.6504e-02],\n",
       "                        [-1.2314e-02,  1.1650e-01,  4.4716e-02]],\n",
       "              \n",
       "                       [[-2.1268e-02,  1.8682e-02, -3.5382e-02],\n",
       "                        [-6.2774e-02,  7.1374e-02, -3.1857e-02],\n",
       "                        [-2.9308e-02, -1.0987e-01,  9.6349e-02]],\n",
       "              \n",
       "                       [[ 9.1809e-02,  3.8504e-02, -8.9420e-02],\n",
       "                        [-1.0561e-01, -1.0286e-01,  4.6926e-02],\n",
       "                        [ 3.0176e-02,  6.1176e-02,  1.0251e-02]],\n",
       "              \n",
       "                       [[ 2.6778e-02, -8.5525e-04, -8.0117e-02],\n",
       "                        [-9.0180e-02, -9.8389e-02,  4.2974e-02],\n",
       "                        [-5.1794e-02, -2.1314e-02, -6.0693e-02]],\n",
       "              \n",
       "                       [[-2.8248e-02, -7.1965e-02, -6.4533e-02],\n",
       "                        [ 4.5360e-02, -1.8300e-02,  7.9956e-02],\n",
       "                        [ 1.0269e-02, -5.6823e-02, -1.8596e-03]],\n",
       "              \n",
       "                       [[-4.9332e-02, -2.6317e-02, -1.0074e-01],\n",
       "                        [ 6.5280e-02, -7.0902e-02,  5.9063e-02],\n",
       "                        [ 4.5860e-02,  7.9438e-02, -7.7148e-02]],\n",
       "              \n",
       "                       [[ 7.9333e-02, -4.8896e-02,  4.4295e-02],\n",
       "                        [ 9.3088e-02, -1.4266e-02,  1.4856e-03],\n",
       "                        [-2.7723e-02, -8.3558e-02,  5.0048e-02]],\n",
       "              \n",
       "                       [[-1.0464e-01,  6.5416e-02,  7.8884e-02],\n",
       "                        [ 9.9686e-02, -2.4870e-02, -8.6608e-02],\n",
       "                        [ 2.3693e-02,  5.8232e-02, -1.0491e-01]]],\n",
       "              \n",
       "              \n",
       "                      [[[-1.9072e-02, -5.6134e-02, -1.8008e-02],\n",
       "                        [-7.3516e-02, -3.4863e-02, -2.2303e-03],\n",
       "                        [-9.8419e-02,  8.9235e-02,  9.9505e-02]],\n",
       "              \n",
       "                       [[-4.2823e-02, -4.8453e-02, -6.5363e-02],\n",
       "                        [-1.4838e-01, -1.2090e-01,  9.4951e-02],\n",
       "                        [-6.1936e-02, -2.8951e-02,  1.0649e-01]],\n",
       "              \n",
       "                       [[-2.2779e-02, -8.4568e-03, -1.0204e-03],\n",
       "                        [ 1.0402e-02, -5.3225e-03, -6.3003e-02],\n",
       "                        [-7.7205e-02,  9.2479e-02, -5.9874e-02]],\n",
       "              \n",
       "                       [[ 7.1811e-03, -2.3838e-02,  3.5654e-02],\n",
       "                        [ 8.8577e-02,  1.1804e-01, -4.4278e-02],\n",
       "                        [ 1.2274e-01,  1.8048e-01,  4.2059e-02]],\n",
       "              \n",
       "                       [[ 7.1200e-02,  1.0475e-01, -3.9715e-02],\n",
       "                        [ 2.0402e-02, -7.2466e-02, -3.9278e-02],\n",
       "                        [ 6.6942e-02,  4.9744e-02, -7.2539e-02]],\n",
       "              \n",
       "                       [[-8.4477e-02, -7.1832e-02, -1.0416e-01],\n",
       "                        [-8.1236e-02, -2.6145e-02,  7.1563e-02],\n",
       "                        [ 1.7886e-02, -8.0098e-02, -8.4638e-02]],\n",
       "              \n",
       "                       [[ 6.6660e-02, -7.2025e-02, -3.2906e-02],\n",
       "                        [ 7.7530e-02, -4.6351e-02, -2.0583e-02],\n",
       "                        [-1.8917e-03, -4.1162e-02, -6.4383e-02]],\n",
       "              \n",
       "                       [[-9.6177e-02, -8.8431e-02, -5.8155e-02],\n",
       "                        [ 9.8001e-02, -5.3727e-02, -6.7733e-02],\n",
       "                        [ 3.8109e-02,  3.4683e-02,  4.5641e-02]],\n",
       "              \n",
       "                       [[ 7.4857e-02,  5.4221e-02, -1.0604e-01],\n",
       "                        [ 1.7732e-02,  6.4741e-02,  8.0271e-03],\n",
       "                        [-4.2713e-02,  1.1607e-01, -3.7533e-02]],\n",
       "              \n",
       "                       [[-6.0014e-02, -9.5025e-02,  4.7343e-03],\n",
       "                        [ 4.6710e-02,  2.3338e-02,  2.0854e-02],\n",
       "                        [-7.9937e-02, -9.8398e-02,  1.8761e-03]]],\n",
       "              \n",
       "              \n",
       "                      [[[ 5.8871e-02, -1.0196e-01, -1.6971e-01],\n",
       "                        [ 1.0715e-01,  1.6820e-01, -1.0686e-01],\n",
       "                        [-4.5581e-02,  2.1017e-01,  1.9217e-01]],\n",
       "              \n",
       "                       [[ 1.5646e-01, -1.4247e-01, -8.7455e-02],\n",
       "                        [ 1.9196e-01,  6.9615e-03,  1.3328e-01],\n",
       "                        [-1.1453e-01,  9.3969e-02,  2.2567e-01]],\n",
       "              \n",
       "                       [[-1.0343e-01, -3.8537e-01, -2.8020e-01],\n",
       "                        [-1.6824e-01, -2.0498e-01, -2.0873e-01],\n",
       "                        [ 1.8038e-01, -8.4899e-02, -1.7595e-01]],\n",
       "              \n",
       "                       [[ 2.2977e-02,  2.2513e-02, -6.3456e-02],\n",
       "                        [-3.4556e-01, -1.8879e-01, -7.5808e-02],\n",
       "                        [-1.3375e-01, -1.7028e-01, -2.4485e-01]],\n",
       "              \n",
       "                       [[-9.1485e-02, -1.1468e-01, -2.8824e-02],\n",
       "                        [ 2.2946e-02,  5.0499e-02, -4.8215e-03],\n",
       "                        [ 6.4160e-02,  1.7747e-01,  9.2334e-02]],\n",
       "              \n",
       "                       [[-5.1671e-02, -4.7997e-02,  3.5883e-02],\n",
       "                        [-6.6918e-02, -7.0449e-02, -7.9707e-03],\n",
       "                        [-4.3975e-02, -7.6291e-02,  5.6527e-02]],\n",
       "              \n",
       "                       [[ 2.7227e-01,  2.3732e-02,  1.8571e-01],\n",
       "                        [-1.3047e-01, -8.3760e-02, -9.3480e-02],\n",
       "                        [ 1.5419e-01, -1.3517e-03,  1.6618e-01]],\n",
       "              \n",
       "                       [[-8.8176e-02, -2.0126e-01, -1.6211e-02],\n",
       "                        [-1.6125e-01, -6.1112e-02, -5.7332e-02],\n",
       "                        [ 2.3596e-02, -2.8266e-02, -6.3030e-03]],\n",
       "              \n",
       "                       [[ 7.1722e-03, -1.2768e-01, -1.2182e-01],\n",
       "                        [-2.0108e-01, -2.5843e-01, -8.3197e-02],\n",
       "                        [-3.5998e-02, -7.4186e-02, -7.7986e-02]],\n",
       "              \n",
       "                       [[-1.0396e-01, -8.6130e-02,  2.0494e-02],\n",
       "                        [ 2.7909e-02,  2.2208e-02, -2.8579e-02],\n",
       "                        [ 9.7165e-02,  1.5085e-02, -6.2229e-02]]],\n",
       "              \n",
       "              \n",
       "                      [[[-2.0324e-01, -6.5485e-02,  1.2578e-02],\n",
       "                        [-1.2312e-01,  4.8722e-02, -2.7531e-02],\n",
       "                        [-1.3010e-02,  2.4458e-02,  1.3318e-01]],\n",
       "              \n",
       "                       [[ 3.9890e-02,  1.2510e-01,  9.9195e-02],\n",
       "                        [ 1.5062e-01,  5.0339e-02, -3.8928e-02],\n",
       "                        [ 1.0066e-01,  4.3004e-03, -6.4749e-02]],\n",
       "              \n",
       "                       [[-4.2552e-02, -2.5610e-03,  2.7210e-02],\n",
       "                        [-4.7965e-02, -7.6631e-02, -1.2647e-02],\n",
       "                        [-8.0430e-02, -8.2244e-02,  3.7924e-02]],\n",
       "              \n",
       "                       [[ 1.1446e-01,  9.1510e-02,  4.8892e-02],\n",
       "                        [ 5.8588e-02,  2.5163e-02,  2.3230e-02],\n",
       "                        [-1.3985e-02,  1.3047e-03,  1.0873e-02]],\n",
       "              \n",
       "                       [[ 1.7388e-02,  9.3648e-02,  4.0888e-03],\n",
       "                        [-4.4591e-02, -1.7726e-02, -1.8956e-02],\n",
       "                        [ 5.5881e-02,  9.9376e-02,  1.0620e-01]],\n",
       "              \n",
       "                       [[ 4.8847e-02, -7.7544e-02, -5.6577e-02],\n",
       "                        [-2.3131e-02, -1.9291e-02,  8.6439e-03],\n",
       "                        [-9.6933e-02,  3.3380e-02, -8.0820e-02]],\n",
       "              \n",
       "                       [[-1.2927e-01, -1.3257e-01,  6.4002e-02],\n",
       "                        [-1.5819e-01,  6.3971e-02, -3.7560e-02],\n",
       "                        [-1.8478e-02,  7.1429e-02, -3.1517e-02]],\n",
       "              \n",
       "                       [[ 8.1751e-02,  8.5164e-02, -8.7800e-02],\n",
       "                        [ 6.1505e-02,  3.2377e-02,  3.7739e-02],\n",
       "                        [ 1.8494e-02,  3.7319e-02, -4.7308e-02]],\n",
       "              \n",
       "                       [[ 4.3390e-02,  1.2177e-01,  6.6958e-02],\n",
       "                        [ 1.5990e-02, -9.1460e-02,  8.9633e-03],\n",
       "                        [-7.1880e-02,  8.2275e-02, -5.2646e-02]],\n",
       "              \n",
       "                       [[-7.6132e-03, -2.3390e-02,  1.8701e-02],\n",
       "                        [ 9.9284e-02,  1.0015e-02,  6.0969e-02],\n",
       "                        [ 8.1802e-02,  8.5057e-02, -3.6389e-02]]],\n",
       "              \n",
       "              \n",
       "                      [[[ 1.4327e-01,  3.0507e-01,  2.7204e-01],\n",
       "                        [ 5.2610e-02, -2.8764e-02, -8.8444e-02],\n",
       "                        [-3.5652e-02, -2.4749e-01, -2.2265e-01]],\n",
       "              \n",
       "                       [[ 2.6047e-01,  3.5177e-01,  2.8634e-01],\n",
       "                        [ 2.5733e-02, -9.7004e-03, -1.1575e-01],\n",
       "                        [-1.2562e-01, -3.4242e-01, -4.6471e-01]],\n",
       "              \n",
       "                       [[-1.4416e-03, -4.4255e-02, -4.5471e-02],\n",
       "                        [-8.1199e-02, -6.5646e-02,  6.5155e-02],\n",
       "                        [ 1.3627e-01,  3.3680e-03,  4.8466e-02]],\n",
       "              \n",
       "                       [[-2.9193e-03, -1.5865e-01, -1.7652e-01],\n",
       "                        [ 1.6965e-02, -1.7367e-01, -7.8269e-02],\n",
       "                        [ 5.0044e-02,  8.7025e-03, -3.3442e-02]],\n",
       "              \n",
       "                       [[ 5.9595e-03,  7.2170e-02, -6.2352e-03],\n",
       "                        [ 3.1321e-02,  5.3079e-02,  5.5098e-02],\n",
       "                        [-1.3678e-01, -9.0490e-02, -1.8976e-01]],\n",
       "              \n",
       "                       [[-8.3405e-02, -8.4623e-03, -9.2646e-02],\n",
       "                        [ 7.3260e-02,  1.2614e-02, -5.7213e-02],\n",
       "                        [ 5.5462e-02, -9.8831e-02, -4.0995e-02]],\n",
       "              \n",
       "                       [[ 4.8632e-03, -2.6669e-02, -1.7028e-05],\n",
       "                        [ 6.9834e-04,  1.0950e-01,  1.6483e-01],\n",
       "                        [ 1.4547e-01,  7.9579e-02,  8.4231e-02]],\n",
       "              \n",
       "                       [[ 6.5330e-02,  1.4549e-02, -6.8604e-03],\n",
       "                        [-5.5833e-03, -9.1683e-02, -3.4135e-02],\n",
       "                        [ 1.2370e-01, -4.6208e-02, -2.2142e-02]],\n",
       "              \n",
       "                       [[-1.3833e-01, -9.3753e-02,  1.5345e-02],\n",
       "                        [-5.0854e-02, -5.4158e-02,  4.3710e-02],\n",
       "                        [-9.6664e-02,  4.8792e-02, -8.4033e-02]],\n",
       "              \n",
       "                       [[-5.1483e-02,  4.0391e-02,  8.3521e-02],\n",
       "                        [-2.8822e-02, -4.3260e-02, -9.5374e-02],\n",
       "                        [-5.4381e-02, -9.2305e-02, -2.4093e-02]]],\n",
       "              \n",
       "              \n",
       "                      [[[ 1.9542e-01, -5.4846e-02, -1.7448e-01],\n",
       "                        [ 2.0000e-01,  2.5656e-02, -3.6347e-01],\n",
       "                        [ 1.7547e-01,  2.9420e-01, -2.5993e-01]],\n",
       "              \n",
       "                       [[ 1.6179e-01,  1.2025e-01, -5.2954e-01],\n",
       "                        [ 4.5183e-01,  1.7828e-01, -4.0989e-01],\n",
       "                        [ 3.3041e-01,  1.0986e-01, -5.0076e-01]],\n",
       "              \n",
       "                       [[-2.0820e-01, -3.0436e-01, -1.7245e-01],\n",
       "                        [-1.0013e-01, -3.6236e-01,  2.8057e-02],\n",
       "                        [ 1.0122e-01, -1.4685e-01,  6.1428e-02]],\n",
       "              \n",
       "                       [[-3.3290e-01, -9.1242e-02,  7.3168e-02],\n",
       "                        [-1.1511e-01, -1.9678e-01,  2.9579e-01],\n",
       "                        [-5.4535e-03, -3.3402e-01,  2.6920e-01]],\n",
       "              \n",
       "                       [[ 9.0314e-02,  9.1421e-02, -2.6398e-01],\n",
       "                        [ 3.9608e-02,  2.0560e-01, -1.4455e-01],\n",
       "                        [-2.4831e-03,  1.4374e-01, -1.3262e-01]],\n",
       "              \n",
       "                       [[ 9.4268e-02, -9.2470e-02, -3.4644e-02],\n",
       "                        [-1.0111e-01, -4.4021e-02,  3.2170e-02],\n",
       "                        [ 1.0134e-01,  1.6774e-02,  1.0341e-01]],\n",
       "              \n",
       "                       [[-6.6246e-04,  4.3796e-02,  1.3285e-01],\n",
       "                        [ 2.3970e-02, -6.3529e-02,  9.6940e-02],\n",
       "                        [ 1.3814e-01,  5.0085e-02,  1.8782e-03]],\n",
       "              \n",
       "                       [[-1.6059e-01, -5.3160e-02, -3.8609e-02],\n",
       "                        [-7.9362e-02, -6.6613e-03, -4.2644e-02],\n",
       "                        [ 2.0188e-02,  1.4687e-02,  1.0689e-01]],\n",
       "              \n",
       "                       [[ 6.4393e-02, -2.0683e-01, -1.0242e-02],\n",
       "                        [ 2.3452e-02, -1.4333e-01, -1.8764e-01],\n",
       "                        [ 1.3334e-02, -8.4556e-02, -1.3601e-01]],\n",
       "              \n",
       "                       [[ 5.9466e-02,  3.8329e-02,  8.3735e-02],\n",
       "                        [-3.9457e-02,  3.5445e-02,  3.7563e-02],\n",
       "                        [-8.8109e-02, -1.0206e-01, -5.4761e-02]]],\n",
       "              \n",
       "              \n",
       "                      [[[ 9.8847e-02, -1.0288e-01, -3.1745e-01],\n",
       "                        [ 8.0409e-02,  1.7428e-01, -8.4706e-02],\n",
       "                        [-7.5094e-02,  1.0940e-01,  4.8069e-02]],\n",
       "              \n",
       "                       [[ 8.0143e-02,  7.3898e-02, -2.9927e-01],\n",
       "                        [-1.0850e-03,  2.5558e-01, -2.9059e-01],\n",
       "                        [-4.9463e-02,  3.4837e-01, -2.4104e-01]],\n",
       "              \n",
       "                       [[-7.7677e-02, -1.6338e-02, -1.8004e-02],\n",
       "                        [-1.3747e-02, -1.4783e-01, -7.0902e-02],\n",
       "                        [ 1.0854e-01, -1.2501e-01, -6.2892e-02]],\n",
       "              \n",
       "                       [[ 1.0067e-02, -1.5371e-01,  2.4245e-01],\n",
       "                        [-2.9593e-02, -9.8433e-02,  2.0274e-01],\n",
       "                        [-5.5515e-02, -1.9824e-01,  1.3055e-01]],\n",
       "              \n",
       "                       [[ 5.6779e-03, -7.7561e-02, -1.6428e-01],\n",
       "                        [ 7.7771e-02,  1.1006e-01, -3.4662e-02],\n",
       "                        [-8.5266e-02,  2.2274e-02, -6.5740e-02]],\n",
       "              \n",
       "                       [[-2.0202e-02, -7.2255e-02,  8.1141e-03],\n",
       "                        [ 1.0909e-02, -1.3981e-02,  1.4683e-02],\n",
       "                        [-4.2175e-02,  2.6634e-02,  3.8900e-02]],\n",
       "              \n",
       "                       [[-6.4004e-03, -8.4493e-02,  1.1336e-01],\n",
       "                        [ 3.8971e-02, -6.8101e-02,  7.1736e-02],\n",
       "                        [-8.0587e-02,  7.0377e-02,  8.8163e-02]],\n",
       "              \n",
       "                       [[-9.4270e-02,  6.7827e-02, -9.5673e-02],\n",
       "                        [-1.0145e-01,  7.2947e-03,  2.3576e-02],\n",
       "                        [ 1.1000e-01, -3.3680e-02,  2.7014e-02]],\n",
       "              \n",
       "                       [[-1.3737e-01,  8.3303e-02, -4.8848e-02],\n",
       "                        [-1.1682e-01, -3.6856e-02,  6.8030e-02],\n",
       "                        [ 8.3507e-02, -5.8714e-02, -5.9514e-02]],\n",
       "              \n",
       "                       [[ 2.0211e-02,  2.8605e-02,  4.0531e-02],\n",
       "                        [ 5.7820e-02, -2.3970e-02,  5.8594e-02],\n",
       "                        [ 7.7764e-02, -2.7496e-02,  7.4937e-02]]],\n",
       "              \n",
       "              \n",
       "                      [[[ 1.3502e-02,  1.0199e-01,  1.3101e-01],\n",
       "                        [ 8.6688e-02,  4.6555e-02,  7.1827e-02],\n",
       "                        [ 2.0530e-01, -1.9299e-01, -2.2206e-01]],\n",
       "              \n",
       "                       [[ 1.0654e-01,  2.1616e-01,  1.6261e-01],\n",
       "                        [ 4.6528e-02, -8.7902e-03, -1.6846e-01],\n",
       "                        [ 2.6278e-02, -1.4617e-01, -9.9076e-02]],\n",
       "              \n",
       "                       [[-1.7656e-01, -3.0700e-01, -4.7599e-02],\n",
       "                        [-1.6546e-01, -2.5447e-01, -1.6225e-01],\n",
       "                        [-6.0041e-02, -1.5444e-01, -1.5797e-02]],\n",
       "              \n",
       "                       [[ 9.6992e-02,  7.0615e-02,  2.9357e-01],\n",
       "                        [-2.7750e-01, -3.3698e-01, -1.3858e-01],\n",
       "                        [-6.0517e-02, -8.9686e-02,  8.6970e-02]],\n",
       "              \n",
       "                       [[ 2.6019e-02,  9.7832e-02,  8.0329e-02],\n",
       "                        [ 1.4620e-01,  1.4740e-01,  3.7877e-03],\n",
       "                        [ 9.6206e-02, -3.2336e-02, -5.7114e-02]],\n",
       "              \n",
       "                       [[ 8.8609e-02,  8.0971e-02,  3.1411e-02],\n",
       "                        [ 6.8347e-03, -9.0784e-02, -1.2850e-02],\n",
       "                        [ 1.0022e-01,  2.7414e-02,  6.8026e-03]],\n",
       "              \n",
       "                       [[-2.8926e-02, -2.1536e-02,  1.2762e-01],\n",
       "                        [ 5.7490e-02,  1.0002e-01,  1.4970e-02],\n",
       "                        [ 7.0903e-02, -1.8368e-02, -2.3965e-02]],\n",
       "              \n",
       "                       [[-2.2062e-02, -2.9249e-02,  1.3226e-01],\n",
       "                        [ 6.9436e-02, -7.9485e-02, -1.5610e-01],\n",
       "                        [ 4.5022e-03,  2.6487e-02, -4.9323e-02]],\n",
       "              \n",
       "                       [[ 3.3414e-02, -1.6026e-01, -1.4656e-01],\n",
       "                        [-4.2626e-02, -8.5590e-02, -1.8885e-01],\n",
       "                        [ 6.5196e-02, -6.2088e-02, -4.4758e-02]],\n",
       "              \n",
       "                       [[ 5.5868e-02,  9.5001e-02,  5.1850e-04],\n",
       "                        [ 2.1081e-02,  3.6693e-02, -9.9834e-02],\n",
       "                        [ 9.4678e-03, -7.0482e-03, -5.9092e-02]]],\n",
       "              \n",
       "              \n",
       "                      [[[-1.8892e-01,  3.1426e-01,  4.5830e-01],\n",
       "                        [-3.3623e-01,  2.3663e-03,  1.1562e-01],\n",
       "                        [-3.1545e-01, -9.7398e-02,  1.0860e-01]],\n",
       "              \n",
       "                       [[-2.5885e-01,  9.4852e-02,  2.0340e-01],\n",
       "                        [-3.6666e-01, -1.9840e-02,  3.5432e-01],\n",
       "                        [-2.4228e-01, -7.9923e-02,  3.7560e-01]],\n",
       "              \n",
       "                       [[-1.1378e-01,  1.5646e-02,  3.6975e-03],\n",
       "                        [-6.9720e-02,  4.3722e-02, -7.9156e-02],\n",
       "                        [-5.4570e-02,  8.7572e-02, -4.3926e-02]],\n",
       "              \n",
       "                       [[-1.1291e-01, -1.3459e-01, -4.0802e-02],\n",
       "                        [ 1.6828e-01,  2.6989e-02, -1.1782e-01],\n",
       "                        [ 2.5519e-01, -7.6225e-02, -1.2981e-01]],\n",
       "              \n",
       "                       [[-1.0831e-01, -2.4109e-02, -1.0148e-01],\n",
       "                        [-8.6549e-03, -4.5172e-02,  1.1791e-02],\n",
       "                        [-9.7996e-03,  7.9028e-02,  1.6381e-01]],\n",
       "              \n",
       "                       [[-1.0065e-01, -7.3538e-02, -3.8202e-02],\n",
       "                        [ 8.7568e-02,  1.1795e-02, -7.9136e-02],\n",
       "                        [ 1.2045e-03, -8.2391e-02, -2.1372e-02]],\n",
       "              \n",
       "                       [[ 2.0776e-03,  1.2324e-01,  1.9621e-02],\n",
       "                        [-1.6653e-03,  4.3497e-03, -5.2827e-02],\n",
       "                        [ 4.1515e-02, -4.0651e-02, -3.1753e-02]],\n",
       "              \n",
       "                       [[-3.1066e-02,  8.3371e-02, -5.2299e-02],\n",
       "                        [-2.1119e-02,  7.0830e-02,  7.9872e-02],\n",
       "                        [ 1.4312e-01,  4.6309e-02, -2.5632e-02]],\n",
       "              \n",
       "                       [[ 6.3081e-02,  1.3777e-01, -3.6155e-02],\n",
       "                        [ 5.8395e-02, -6.0224e-02,  1.6088e-02],\n",
       "                        [ 1.1673e-01, -4.4589e-02, -3.5695e-02]],\n",
       "              \n",
       "                       [[ 4.7455e-02, -1.7696e-02, -8.8413e-02],\n",
       "                        [ 8.4329e-02, -5.2974e-02, -1.1591e-02],\n",
       "                        [ 9.9755e-03, -6.3742e-03, -9.8979e-02]]]])),\n",
       "             ('block_1.2.bias',\n",
       "              tensor([ 0.4871, -0.0586, -0.0012,  0.4029, -0.1687, -0.0714,  0.2082,  0.0241,\n",
       "                       0.2424,  0.0461])),\n",
       "             ('block_2.0.weight',\n",
       "              tensor([[[[ 4.4779e-03, -1.1693e-01,  1.4695e-02],\n",
       "                        [-1.5039e-01, -1.4482e-01,  1.1324e-01],\n",
       "                        [-1.4168e-01,  4.1523e-02,  1.5887e-01]],\n",
       "              \n",
       "                       [[ 5.8240e-02, -9.6823e-02, -5.0392e-02],\n",
       "                        [-6.5207e-02, -4.8041e-02,  5.9946e-02],\n",
       "                        [ 2.2761e-02,  4.7859e-02, -6.5601e-02]],\n",
       "              \n",
       "                       [[ 6.8321e-02, -4.5914e-02,  9.2001e-02],\n",
       "                        [-3.0506e-02, -4.2898e-02, -9.9132e-02],\n",
       "                        [ 3.5035e-02,  1.1947e-01,  5.2462e-02]],\n",
       "              \n",
       "                       [[-4.6933e-01, -6.0759e-02, -2.9026e-01],\n",
       "                        [-1.4294e-01,  3.1067e-01,  6.1193e-02],\n",
       "                        [ 7.1845e-02, -1.0506e-01, -1.8993e-01]],\n",
       "              \n",
       "                       [[-1.4824e-02,  3.8277e-02,  2.1313e-02],\n",
       "                        [-6.0816e-03,  1.4289e-01, -1.0202e-02],\n",
       "                        [-1.9885e-02, -2.5136e-02,  9.8565e-02]],\n",
       "              \n",
       "                       [[-7.3810e-02, -5.6240e-02, -1.2326e-01],\n",
       "                        [-7.9943e-03, -6.2645e-02, -4.3597e-02],\n",
       "                        [ 7.4302e-02,  7.8230e-02,  4.1600e-02]],\n",
       "              \n",
       "                       [[-2.0037e-01,  2.2316e-01, -2.8938e-01],\n",
       "                        [ 1.9868e-01,  2.7914e-01,  1.1894e-01],\n",
       "                        [ 4.8985e-01,  9.7472e-02,  1.7487e-03]],\n",
       "              \n",
       "                       [[ 1.2827e-01,  8.5092e-02, -5.8847e-02],\n",
       "                        [ 1.2249e-01,  1.8461e-01, -7.7579e-02],\n",
       "                        [ 1.2220e-01, -5.3721e-02, -5.6118e-02]],\n",
       "              \n",
       "                       [[-3.0041e-01, -1.3479e-01, -1.8076e-01],\n",
       "                        [ 1.2721e-01,  2.9639e-01,  1.7560e-01],\n",
       "                        [-9.9421e-02, -1.8958e-01, -2.3735e-02]],\n",
       "              \n",
       "                       [[ 2.2912e-01,  5.6419e-02,  1.0465e-01],\n",
       "                        [ 7.0023e-02,  1.9799e-01, -2.6725e-02],\n",
       "                        [-4.9455e-02,  1.3317e-01,  1.2573e-02]]],\n",
       "              \n",
       "              \n",
       "                      [[[-3.5122e-02, -2.9813e-01, -1.6724e-01],\n",
       "                        [ 1.7274e-01, -3.0926e-01, -9.7271e-03],\n",
       "                        [ 1.1611e-02,  1.2481e-01,  1.0092e-01]],\n",
       "              \n",
       "                       [[ 4.7574e-04, -8.2862e-02, -1.1810e-01],\n",
       "                        [-1.0727e-01,  9.5380e-02, -2.6391e-02],\n",
       "                        [ 5.0136e-02, -1.3917e-02,  4.1864e-02]],\n",
       "              \n",
       "                       [[ 1.3957e-01,  9.0221e-02, -6.5034e-02],\n",
       "                        [-1.1145e-01,  7.4681e-03, -7.8055e-02],\n",
       "                        [ 1.0789e-01, -1.0443e-01,  7.2647e-02]],\n",
       "              \n",
       "                       [[-2.4835e-01,  4.1011e-01,  3.8095e-01],\n",
       "                        [-2.2144e-01,  8.0224e-01,  3.8683e-01],\n",
       "                        [-7.4887e-01, -2.3164e-01, -1.7322e-01]],\n",
       "              \n",
       "                       [[ 1.4138e-01,  1.9098e-01,  9.9072e-02],\n",
       "                        [-9.7158e-02, -3.3140e-03,  3.1051e-02],\n",
       "                        [-7.8791e-02, -1.3312e-01,  5.9317e-04]],\n",
       "              \n",
       "                       [[-9.2040e-02, -2.7155e-01, -1.6996e-01],\n",
       "                        [ 8.0996e-02,  1.5285e-01,  2.8531e-03],\n",
       "                        [ 4.0557e-02,  1.3656e-01,  1.1296e-01]],\n",
       "              \n",
       "                       [[-7.2906e-01,  7.5412e-03,  1.7750e-01],\n",
       "                        [-5.7708e-01,  2.4877e-01,  3.7364e-01],\n",
       "                        [-2.4453e-01,  7.3598e-02, -1.8856e-01]],\n",
       "              \n",
       "                       [[-1.3379e-01, -1.9447e-01,  8.2854e-02],\n",
       "                        [-2.9173e-01,  7.6798e-02, -5.0903e-02],\n",
       "                        [-2.0487e-01,  2.2193e-02, -1.9716e-01]],\n",
       "              \n",
       "                       [[-4.9802e-01,  7.9975e-02,  4.0405e-01],\n",
       "                        [-6.3368e-02,  4.1350e-01,  3.3984e-01],\n",
       "                        [-3.0448e-01, -8.6809e-02, -9.7238e-02]],\n",
       "              \n",
       "                       [[ 1.2684e-01, -3.6437e-02, -3.1087e-01],\n",
       "                        [ 1.0497e-01,  1.7280e-01, -1.9120e-01],\n",
       "                        [-2.8293e-01,  1.2473e-01,  2.0711e-01]]],\n",
       "              \n",
       "              \n",
       "                      [[[-4.1129e-02,  9.5948e-02,  6.3836e-02],\n",
       "                        [-8.4505e-02, -8.5672e-02, -1.1319e-01],\n",
       "                        [-7.7317e-02, -5.1347e-02, -4.3834e-02]],\n",
       "              \n",
       "                       [[-2.6833e-02, -5.5137e-02, -3.4348e-02],\n",
       "                        [-4.1802e-02,  1.0595e-01, -3.5480e-02],\n",
       "                        [-7.5852e-02,  4.3033e-02, -4.8555e-03]],\n",
       "              \n",
       "                       [[ 7.7021e-02,  7.0075e-02,  1.0848e-01],\n",
       "                        [-7.8427e-02,  7.5328e-02,  9.8796e-02],\n",
       "                        [-5.2058e-02,  1.0339e-01,  8.2846e-02]],\n",
       "              \n",
       "                       [[-4.1750e-02,  3.0893e-02, -5.1262e-02],\n",
       "                        [-1.2339e-01,  2.9931e-02,  4.7503e-02],\n",
       "                        [-1.1016e-01,  1.6587e-02, -9.6783e-02]],\n",
       "              \n",
       "                       [[ 7.2506e-02,  9.4835e-02,  2.0315e-02],\n",
       "                        [-7.3950e-02,  5.9580e-02,  2.6394e-02],\n",
       "                        [ 9.2405e-03,  2.3824e-02,  7.3765e-02]],\n",
       "              \n",
       "                       [[-6.2666e-02, -4.2788e-02,  1.9905e-02],\n",
       "                        [-1.2322e-02,  7.9925e-02, -3.8147e-02],\n",
       "                        [-1.1457e-02,  1.3692e-02, -2.7846e-02]],\n",
       "              \n",
       "                       [[ 4.2818e-02,  1.8357e-03, -1.3617e-01],\n",
       "                        [-3.2522e-02, -4.0655e-02, -2.0977e-02],\n",
       "                        [-3.4745e-02, -1.2029e-01, -4.6871e-02]],\n",
       "              \n",
       "                       [[-2.5897e-02, -3.1282e-02,  6.5465e-02],\n",
       "                        [-2.5779e-02,  7.9850e-02,  5.7728e-03],\n",
       "                        [-9.9475e-02,  1.9455e-02,  6.0456e-02]],\n",
       "              \n",
       "                       [[-1.1796e-01, -9.7265e-02,  7.2246e-02],\n",
       "                        [ 4.7358e-02, -6.5808e-02,  6.6412e-02],\n",
       "                        [-4.6671e-02, -1.2373e-01, -1.2623e-02]],\n",
       "              \n",
       "                       [[ 3.7192e-02, -2.5020e-03,  1.1870e-01],\n",
       "                        [-7.8881e-02,  1.1470e-01,  1.5843e-01],\n",
       "                        [ 5.6357e-02,  5.5624e-02,  7.5018e-02]]],\n",
       "              \n",
       "              \n",
       "                      [[[-4.9969e-02, -9.4856e-02,  3.1151e-02],\n",
       "                        [-8.3169e-02, -7.6176e-02,  2.2218e-01],\n",
       "                        [ 6.2148e-02, -1.1559e-01,  1.3495e-01]],\n",
       "              \n",
       "                       [[ 3.4943e-02,  1.1195e-01,  8.0515e-02],\n",
       "                        [ 1.0988e-01, -1.7957e-02,  8.4772e-02],\n",
       "                        [ 8.2732e-02, -1.0208e-01, -9.0201e-02]],\n",
       "              \n",
       "                       [[ 1.2509e-02,  5.8438e-02, -5.3207e-02],\n",
       "                        [-2.4107e-03, -5.1980e-03,  3.9487e-02],\n",
       "                        [-5.1282e-02,  6.3621e-02,  9.2351e-02]],\n",
       "              \n",
       "                       [[-8.4289e-02,  3.0904e-02,  5.8617e-02],\n",
       "                        [ 8.3512e-02,  3.8381e-02, -8.8901e-02],\n",
       "                        [-6.8585e-02, -2.2052e-03, -2.2126e-01]],\n",
       "              \n",
       "                       [[-2.7790e-02,  1.0334e-03, -6.0871e-02],\n",
       "                        [ 4.9806e-03, -8.9855e-02,  2.5364e-03],\n",
       "                        [-1.8422e-02, -1.4488e-02, -9.6520e-02]],\n",
       "              \n",
       "                       [[-2.0349e-01,  1.0028e-01,  1.7811e-01],\n",
       "                        [-8.1442e-02,  1.6472e-01, -4.1124e-02],\n",
       "                        [-1.0903e-03,  9.6840e-02,  1.5781e-02]],\n",
       "              \n",
       "                       [[-8.0707e-02,  1.1311e-01,  1.6853e-01],\n",
       "                        [ 1.4287e-02,  3.0329e-01, -5.6935e-02],\n",
       "                        [-1.1510e-02,  1.2646e-01, -7.5868e-02]],\n",
       "              \n",
       "                       [[-2.6316e-02,  3.5649e-02, -4.0235e-02],\n",
       "                        [-1.0065e-01,  1.0485e-01, -1.3423e-01],\n",
       "                        [-4.3648e-02,  9.6762e-02, -9.2391e-02]],\n",
       "              \n",
       "                       [[-3.0734e-03,  4.0772e-02,  1.5913e-01],\n",
       "                        [ 1.7781e-02, -3.2586e-02,  5.9062e-02],\n",
       "                        [-2.1844e-02, -5.7656e-02, -1.8019e-01]],\n",
       "              \n",
       "                       [[-3.0927e-02, -4.6018e-02,  4.9556e-02],\n",
       "                        [-8.9876e-02, -1.4837e-01,  4.8660e-02],\n",
       "                        [-1.8029e-01,  4.2758e-02,  2.5238e-01]]],\n",
       "              \n",
       "              \n",
       "                      [[[ 5.6722e-02,  1.1446e-01, -5.3106e-02],\n",
       "                        [-7.4627e-02,  4.7919e-02,  5.4330e-02],\n",
       "                        [ 1.1846e-01,  5.2393e-02,  1.7666e-01]],\n",
       "              \n",
       "                       [[ 6.6684e-02,  7.4083e-02, -1.0699e-01],\n",
       "                        [ 7.6773e-02, -9.9126e-02,  9.4705e-02],\n",
       "                        [-1.4879e-02, -9.7298e-02,  3.0010e-02]],\n",
       "              \n",
       "                       [[-2.5603e-02, -9.4757e-02, -3.9757e-02],\n",
       "                        [-3.6333e-04,  7.7276e-02, -3.8868e-02],\n",
       "                        [ 5.8675e-02,  3.1532e-03, -9.3459e-03]],\n",
       "              \n",
       "                       [[ 9.2844e-02, -9.4978e-02, -8.7768e-02],\n",
       "                        [-2.5308e-03, -1.4188e-01, -8.4233e-02],\n",
       "                        [ 4.4913e-02, -7.9467e-02, -1.2791e-01]],\n",
       "              \n",
       "                       [[-1.7338e-02, -1.0859e-02, -5.9816e-02],\n",
       "                        [-5.6902e-03, -1.4012e-02,  2.5827e-02],\n",
       "                        [ 3.6020e-03, -4.4623e-02, -5.7865e-02]],\n",
       "              \n",
       "                       [[ 4.7937e-02, -7.1547e-02, -2.0475e-02],\n",
       "                        [-4.7646e-03,  9.5636e-03,  2.2504e-02],\n",
       "                        [ 6.9846e-02, -2.8542e-02, -7.5876e-02]],\n",
       "              \n",
       "                       [[ 1.6332e-01, -1.2525e-01, -3.3756e-02],\n",
       "                        [ 1.5860e-02, -8.7145e-02, -6.6723e-02],\n",
       "                        [ 1.0226e-01,  1.4236e-01, -4.1545e-02]],\n",
       "              \n",
       "                       [[ 1.2451e-01, -1.2641e-01,  1.5851e-02],\n",
       "                        [ 1.1442e-01,  4.9372e-02, -9.1928e-02],\n",
       "                        [ 8.4767e-02, -3.6219e-02, -3.4441e-02]],\n",
       "              \n",
       "                       [[ 2.9581e-02, -1.0142e-01, -1.1834e-01],\n",
       "                        [-5.2254e-02,  1.2573e-02,  2.0777e-02],\n",
       "                        [-1.0253e-01, -3.8037e-02, -4.7509e-02]],\n",
       "              \n",
       "                       [[-1.1570e-01,  4.6645e-02,  1.6770e-01],\n",
       "                        [ 1.6655e-02, -7.6007e-02,  5.8107e-02],\n",
       "                        [ 5.9213e-02,  4.9327e-02, -3.8996e-02]]],\n",
       "              \n",
       "              \n",
       "                      [[[-1.0072e-01,  2.3345e-02,  8.9959e-03],\n",
       "                        [-3.8734e-02, -6.6362e-02, -5.1128e-02],\n",
       "                        [ 6.8558e-02, -3.5074e-02,  8.6100e-02]],\n",
       "              \n",
       "                       [[ 9.2970e-02,  1.0201e-02,  2.2080e-02],\n",
       "                        [-9.5302e-03,  7.3204e-02, -8.6539e-02],\n",
       "                        [ 4.4907e-02, -1.5844e-02,  5.0023e-02]],\n",
       "              \n",
       "                       [[ 1.4003e-03, -3.9837e-02, -1.4144e-02],\n",
       "                        [ 6.2633e-02, -7.6616e-02, -6.8074e-02],\n",
       "                        [-2.3910e-02, -4.7117e-02,  4.0722e-02]],\n",
       "              \n",
       "                       [[-1.6933e-02, -5.1771e-02,  4.4512e-02],\n",
       "                        [-8.8499e-02, -6.3678e-02, -4.6085e-02],\n",
       "                        [-1.0243e-01, -1.0214e-01, -1.1152e-01]],\n",
       "              \n",
       "                       [[-1.2720e-01,  1.7183e-02,  6.3432e-02],\n",
       "                        [ 8.3551e-02,  9.6731e-02,  7.5669e-04],\n",
       "                        [ 1.3104e-02, -5.4426e-02,  4.3085e-02]],\n",
       "              \n",
       "                       [[-1.2068e-01, -3.1663e-03, -2.9723e-02],\n",
       "                        [-9.2383e-05,  1.7339e-02, -3.4078e-02],\n",
       "                        [ 1.1111e-01,  5.9071e-02,  8.2206e-02]],\n",
       "              \n",
       "                       [[-6.4471e-02,  6.6941e-02,  7.9033e-02],\n",
       "                        [ 2.3202e-02,  1.0103e-01,  7.0453e-03],\n",
       "                        [ 5.8403e-02,  1.6845e-02,  7.1381e-02]],\n",
       "              \n",
       "                       [[ 7.0446e-02,  2.7956e-02, -4.1340e-02],\n",
       "                        [-1.5818e-02,  4.3133e-02,  2.1511e-02],\n",
       "                        [-2.4036e-02,  9.7768e-02,  6.9165e-02]],\n",
       "              \n",
       "                       [[-1.2057e-01, -5.2198e-02, -3.9588e-02],\n",
       "                        [-1.1281e-01,  1.3273e-02, -2.9759e-02],\n",
       "                        [-6.5120e-02, -3.7332e-02, -5.3685e-02]],\n",
       "              \n",
       "                       [[ 1.1242e-01,  2.9749e-02,  1.9403e-01],\n",
       "                        [ 3.5752e-02,  4.1053e-02,  9.0863e-02],\n",
       "                        [ 2.1988e-02, -8.9295e-02, -4.2032e-02]]],\n",
       "              \n",
       "              \n",
       "                      [[[-1.5539e-01,  1.8008e-01,  2.9684e-01],\n",
       "                        [-3.6723e-01, -9.9755e-02,  2.6811e-02],\n",
       "                        [-1.1708e-01, -3.6361e-01, -3.3381e-01]],\n",
       "              \n",
       "                       [[-1.0166e-01, -8.4913e-03,  5.0541e-02],\n",
       "                        [ 8.5793e-02, -8.9203e-02, -3.2426e-02],\n",
       "                        [ 2.6035e-02, -3.3397e-02,  6.1898e-03]],\n",
       "              \n",
       "                       [[-1.9827e-02,  4.5243e-02,  1.4878e-01],\n",
       "                        [ 4.3286e-02, -5.7053e-02, -1.6199e-02],\n",
       "                        [ 5.9832e-02, -3.5004e-02, -4.0817e-02]],\n",
       "              \n",
       "                       [[-5.9785e-02, -2.5612e-01, -8.2750e-01],\n",
       "                        [ 3.5692e-01,  3.2006e-01, -1.8836e-01],\n",
       "                        [ 8.1028e-02,  2.6311e-01,  2.0912e-01]],\n",
       "              \n",
       "                       [[-1.3077e-01, -1.4082e-01, -4.4998e-02],\n",
       "                        [ 1.2759e-01, -6.1212e-02,  9.0455e-03],\n",
       "                        [ 1.8192e-02, -5.9023e-02, -7.2562e-02]],\n",
       "              \n",
       "                       [[-1.8947e-01, -9.6353e-02,  7.6265e-02],\n",
       "                        [-1.5253e-01, -4.1283e-02, -4.9207e-02],\n",
       "                        [ 3.6967e-01, -1.1885e-03,  7.4846e-03]],\n",
       "              \n",
       "                       [[-1.4419e-01,  4.3110e-01, -4.7076e-01],\n",
       "                        [ 1.7905e-01,  2.4412e-01, -1.8161e-01],\n",
       "                        [-9.2928e-02, -1.1459e-01, -2.5464e-01]],\n",
       "              \n",
       "                       [[-7.4223e-03,  2.0734e-01, -3.5343e-01],\n",
       "                        [ 4.6345e-02,  7.1561e-02, -5.8229e-02],\n",
       "                        [-1.7873e-01, -2.0705e-01, -8.6057e-02]],\n",
       "              \n",
       "                       [[-8.6110e-03, -1.9778e-01, -4.7945e-01],\n",
       "                        [ 1.7772e-01,  2.7828e-01, -2.3020e-01],\n",
       "                        [ 2.6027e-02,  1.8227e-01,  1.2456e-01]],\n",
       "              \n",
       "                       [[-9.7491e-02, -1.8474e-01,  1.5380e-01],\n",
       "                        [-9.3287e-02, -3.0144e-01, -2.1514e-01],\n",
       "                        [ 1.9246e-02, -1.4142e-01, -5.6393e-02]]],\n",
       "              \n",
       "              \n",
       "                      [[[-8.7777e-02,  2.5626e-01,  1.0906e-01],\n",
       "                        [-3.3425e-02, -1.3988e-01, -1.3438e-01],\n",
       "                        [ 1.2163e-01, -1.7745e-02, -5.1618e-02]],\n",
       "              \n",
       "                       [[-5.1716e-02, -1.9356e-02, -8.0233e-02],\n",
       "                        [ 4.0504e-02, -5.7972e-02,  3.4713e-02],\n",
       "                        [-1.0361e-01,  4.4023e-02, -8.7726e-02]],\n",
       "              \n",
       "                       [[ 2.9167e-02, -1.0393e-01,  6.1839e-03],\n",
       "                        [ 7.5623e-03,  4.4779e-02,  4.8606e-02],\n",
       "                        [-1.0885e-01,  2.8896e-02, -4.1644e-02]],\n",
       "              \n",
       "                       [[ 6.3754e-02, -1.8108e-01, -3.8735e-01],\n",
       "                        [-2.5655e-01,  3.8987e-01,  1.3148e-01],\n",
       "                        [-3.3049e-02,  4.2450e-01,  2.0234e-01]],\n",
       "              \n",
       "                       [[-5.9645e-03, -1.5602e-01,  2.1230e-02],\n",
       "                        [ 2.3215e-02, -9.2337e-02, -6.5895e-02],\n",
       "                        [ 1.3444e-01, -6.9415e-02, -4.1831e-02]],\n",
       "              \n",
       "                       [[ 2.3208e-03, -3.1394e-01, -1.5669e-01],\n",
       "                        [-1.6114e-01, -2.0665e-01, -2.1089e-01],\n",
       "                        [-1.5768e-01, -5.6505e-02,  1.4095e-01]],\n",
       "              \n",
       "                       [[ 2.7000e-01, -1.1155e-01, -2.7827e-01],\n",
       "                        [-2.5271e-01,  1.9755e-01, -1.3339e-01],\n",
       "                        [-2.0502e-01,  6.3493e-02,  1.7793e-02]],\n",
       "              \n",
       "                       [[ 1.3025e-01, -1.0612e-01, -1.4402e-01],\n",
       "                        [-3.8969e-02, -2.4130e-02, -8.6638e-02],\n",
       "                        [-3.7681e-02,  3.6126e-02, -3.8229e-02]],\n",
       "              \n",
       "                       [[-9.8268e-02, -1.0455e-01, -1.7081e-01],\n",
       "                        [-2.9189e-01,  2.1214e-01,  8.5243e-02],\n",
       "                        [ 4.2852e-02,  1.3424e-01,  1.0069e-01]],\n",
       "              \n",
       "                       [[ 3.2627e-01, -3.6314e-01, -3.9930e-03],\n",
       "                        [ 3.3522e-01, -1.0043e-01, -8.6520e-02],\n",
       "                        [ 4.1335e-03,  2.1419e-01, -1.7197e-01]]],\n",
       "              \n",
       "              \n",
       "                      [[[-7.2471e-02, -1.4976e-01,  1.1834e-01],\n",
       "                        [ 1.6696e-01,  3.3494e-01,  3.3314e-01],\n",
       "                        [-7.7739e-02, -1.3324e-02,  7.6048e-02]],\n",
       "              \n",
       "                       [[ 3.1274e-02,  2.9600e-02,  2.4261e-02],\n",
       "                        [-5.6749e-02,  5.9471e-02,  7.4886e-02],\n",
       "                        [ 1.4797e-02, -6.3618e-04,  9.8257e-02]],\n",
       "              \n",
       "                       [[ 2.9768e-03, -3.5253e-02,  4.3539e-02],\n",
       "                        [ 8.8637e-02, -7.3744e-02,  8.6321e-02],\n",
       "                        [ 2.6506e-02, -4.1419e-03,  1.0498e-01]],\n",
       "              \n",
       "                       [[ 3.3910e-02,  2.7203e-01,  1.4843e-01],\n",
       "                        [-1.3137e-01, -5.8344e-01, -2.4143e-01],\n",
       "                        [ 1.7653e-01, -2.0590e-01,  3.1479e-02]],\n",
       "              \n",
       "                       [[ 5.8212e-02,  1.4408e-01, -2.1693e-02],\n",
       "                        [-4.9697e-05,  1.2018e-02, -1.4436e-01],\n",
       "                        [-1.0865e-01, -7.2817e-03,  7.0230e-02]],\n",
       "              \n",
       "                       [[ 1.0259e-01,  2.4506e-01, -1.0420e-01],\n",
       "                        [ 1.2901e-01,  9.5969e-02,  1.6266e-02],\n",
       "                        [ 2.4188e-03, -1.7046e-01,  2.5976e-02]],\n",
       "              \n",
       "                       [[-3.5589e-02,  1.6888e-01,  1.0682e-01],\n",
       "                        [ 1.0571e-01, -4.5134e-01, -5.7116e-01],\n",
       "                        [ 1.6133e-01, -3.9485e-01, -3.8102e-01]],\n",
       "              \n",
       "                       [[-4.2431e-02,  4.8104e-02,  2.4976e-02],\n",
       "                        [-1.4275e-01, -2.8506e-01, -6.4243e-02],\n",
       "                        [ 3.9818e-02, -1.8887e-01, -2.3516e-01]],\n",
       "              \n",
       "                       [[ 1.5310e-01,  1.9491e-01, -2.2862e-02],\n",
       "                        [ 6.7414e-03, -2.8984e-01, -2.3314e-01],\n",
       "                        [ 1.7813e-01, -2.4261e-01, -1.1352e-01]],\n",
       "              \n",
       "                       [[-3.7595e-02, -1.3647e-01,  1.4126e-01],\n",
       "                        [-1.7812e-01, -1.8802e-02,  2.2687e-01],\n",
       "                        [-2.7856e-01, -2.4490e-01,  1.5018e-01]]],\n",
       "              \n",
       "              \n",
       "                      [[[-8.2620e-02,  9.3655e-02,  3.4337e-02],\n",
       "                        [ 7.0729e-02,  1.2349e-01, -4.3556e-03],\n",
       "                        [ 1.3614e-01, -5.0310e-02, -8.1507e-02]],\n",
       "              \n",
       "                       [[ 7.4533e-02,  3.0490e-02, -1.3196e-02],\n",
       "                        [-2.3193e-02, -6.3051e-02,  6.6990e-02],\n",
       "                        [-3.4778e-03, -4.3822e-03,  3.0698e-02]],\n",
       "              \n",
       "                       [[ 7.8392e-02, -4.3739e-02, -2.9983e-02],\n",
       "                        [ 6.3065e-02,  6.6157e-02, -4.4745e-02],\n",
       "                        [-1.0542e-01,  3.7707e-02,  5.6715e-02]],\n",
       "              \n",
       "                       [[-3.9800e-02,  4.7536e-02, -8.7594e-02],\n",
       "                        [-3.3891e-02, -1.1899e-01,  6.3392e-02],\n",
       "                        [-7.2073e-02, -3.7933e-02,  1.2690e-01]],\n",
       "              \n",
       "                       [[-7.2740e-02, -9.5682e-02, -9.7185e-02],\n",
       "                        [ 5.7686e-02,  2.5558e-02, -7.0402e-02],\n",
       "                        [ 2.6323e-02,  7.3833e-02, -9.2335e-02]],\n",
       "              \n",
       "                       [[ 5.9811e-02,  2.2386e-02,  4.2700e-02],\n",
       "                        [ 1.0023e-01,  1.0426e-01,  7.8337e-02],\n",
       "                        [ 8.6100e-02,  4.6719e-02,  6.1875e-02]],\n",
       "              \n",
       "                       [[-1.3330e-01, -3.0397e-02, -5.9058e-02],\n",
       "                        [ 1.2089e-03, -4.1738e-02,  4.0342e-02],\n",
       "                        [-1.4682e-01, -1.2850e-01,  1.1270e-01]],\n",
       "              \n",
       "                       [[ 2.8767e-02,  2.5291e-02, -1.5728e-02],\n",
       "                        [-3.9141e-02, -6.1286e-02,  1.0106e-01],\n",
       "                        [-7.6400e-02,  4.2891e-02,  8.5584e-02]],\n",
       "              \n",
       "                       [[-1.3210e-01, -9.6093e-03, -2.5453e-02],\n",
       "                        [-8.1979e-02,  1.6857e-02, -1.0495e-04],\n",
       "                        [ 2.8326e-02, -1.1700e-01,  8.0617e-02]],\n",
       "              \n",
       "                       [[-9.1503e-02, -3.2859e-02, -3.3851e-02],\n",
       "                        [ 5.3183e-02,  8.4036e-02, -1.0335e-01],\n",
       "                        [-1.3212e-02,  1.6317e-02,  2.4230e-02]]]])),\n",
       "             ('block_2.0.bias',\n",
       "              tensor([-0.1092,  0.1837, -0.0387, -0.2023, -0.0542,  0.0139,  0.4306,  0.4438,\n",
       "                       0.6954, -0.0555])),\n",
       "             ('block_2.2.weight',\n",
       "              tensor([[[[-2.2280e-01, -2.1064e-01, -1.5906e-01],\n",
       "                        [-5.2779e-02,  1.9602e-02,  8.9489e-03],\n",
       "                        [-6.4065e-05, -8.5183e-02,  2.5600e-01]],\n",
       "              \n",
       "                       [[-4.6119e-02, -3.4368e-01,  1.2622e-01],\n",
       "                        [-7.0938e-02,  1.7078e-03, -3.5057e-01],\n",
       "                        [ 2.9118e-01,  1.3389e-01, -7.4571e-01]],\n",
       "              \n",
       "                       [[ 5.3482e-02,  6.2102e-03,  9.4404e-02],\n",
       "                        [-6.9236e-02,  6.7132e-02,  2.4289e-02],\n",
       "                        [ 2.5720e-02,  7.1920e-02, -9.8241e-02]],\n",
       "              \n",
       "                       [[-1.8842e-01,  8.2578e-02, -3.9447e-02],\n",
       "                        [-1.2185e-01,  8.0217e-02, -1.0686e-01],\n",
       "                        [-7.5125e-02,  3.7427e-02, -8.5348e-03]],\n",
       "              \n",
       "                       [[-8.7291e-02,  1.3868e-02,  8.4256e-02],\n",
       "                        [-2.3703e-02, -1.2541e-02,  2.6557e-02],\n",
       "                        [-4.7469e-02, -2.9985e-02, -1.5047e-01]],\n",
       "              \n",
       "                       [[-8.1783e-02, -7.4395e-02,  1.3893e-01],\n",
       "                        [-5.2376e-03,  5.5633e-02,  1.0450e-01],\n",
       "                        [ 9.3613e-03, -1.4287e-02, -3.3167e-02]],\n",
       "              \n",
       "                       [[-4.1994e-01, -7.1596e-02, -7.2290e-01],\n",
       "                        [-2.3540e-01,  1.7031e-02,  2.9933e-01],\n",
       "                        [-2.9640e-01,  1.1890e-01,  6.5028e-01]],\n",
       "              \n",
       "                       [[ 3.5684e-01,  1.7265e-01, -2.5821e-01],\n",
       "                        [ 1.4859e-01, -7.8122e-02,  5.8893e-02],\n",
       "                        [-1.6431e-02, -1.4004e-01, -5.2430e-03]],\n",
       "              \n",
       "                       [[ 3.7564e-01, -1.2933e-02,  6.7559e-02],\n",
       "                        [-4.2255e-02, -3.7914e-01,  2.4532e-01],\n",
       "                        [-3.7835e-01, -4.4386e-01, -1.1165e-01]],\n",
       "              \n",
       "                       [[-5.7218e-02,  4.5157e-02, -6.3841e-02],\n",
       "                        [ 3.8457e-02, -1.0003e-01, -6.5692e-02],\n",
       "                        [ 2.2391e-02, -1.4383e-02, -5.8352e-02]]],\n",
       "              \n",
       "              \n",
       "                      [[[ 1.9578e-02,  1.2912e-01,  3.6520e-02],\n",
       "                        [-1.7440e-01,  4.4193e-02, -1.8216e-01],\n",
       "                        [ 2.6129e-01,  4.1852e-02,  3.0740e-02]],\n",
       "              \n",
       "                       [[ 4.8940e-02, -6.4389e-02, -1.4188e-02],\n",
       "                        [ 1.8436e-01, -5.8957e-01,  2.6968e-01],\n",
       "                        [-6.6004e-02, -5.6264e-01,  3.3410e-01]],\n",
       "              \n",
       "                       [[ 1.3173e-02, -1.4049e-02,  5.1560e-02],\n",
       "                        [ 6.1476e-02, -8.5312e-02, -6.1902e-02],\n",
       "                        [-4.2157e-02, -1.0539e-01, -5.2371e-02]],\n",
       "              \n",
       "                       [[ 3.0878e-02,  8.4415e-02,  7.8899e-02],\n",
       "                        [ 2.7530e-01, -1.1537e-01, -1.0017e-01],\n",
       "                        [ 2.4682e-01, -8.6667e-02,  1.2067e-01]],\n",
       "              \n",
       "                       [[ 1.6662e-02,  3.5364e-02,  3.3596e-02],\n",
       "                        [ 7.7753e-03, -5.0035e-02,  3.8787e-02],\n",
       "                        [ 2.3378e-02, -4.7052e-02, -7.2802e-02]],\n",
       "              \n",
       "                       [[-4.8466e-03,  2.7112e-02,  5.2664e-02],\n",
       "                        [-5.5706e-02, -1.1738e-01,  6.0954e-03],\n",
       "                        [ 4.5283e-02,  1.4841e-02,  2.2678e-03]],\n",
       "              \n",
       "                       [[ 2.8466e-02,  2.8508e-01,  3.6930e-01],\n",
       "                        [-2.3821e-01,  5.2258e-02, -2.3985e-01],\n",
       "                        [-1.8747e-02,  1.6911e-01, -2.3290e-01]],\n",
       "              \n",
       "                       [[ 1.0090e-01, -1.6848e-01,  3.5385e-02],\n",
       "                        [-6.4770e-02, -3.8117e-01, -1.6880e-01],\n",
       "                        [ 2.9539e-02, -4.4666e-01,  3.3207e-01]],\n",
       "              \n",
       "                       [[-3.6923e-02, -1.2171e-01, -2.4651e-02],\n",
       "                        [ 1.3925e-01,  1.3679e-01, -2.0575e-01],\n",
       "                        [ 1.1103e-01,  8.0547e-02, -5.9219e-02]],\n",
       "              \n",
       "                       [[-2.0736e-02,  5.3865e-02,  1.2312e-01],\n",
       "                        [-6.1691e-02, -5.4990e-02,  5.5175e-02],\n",
       "                        [ 1.2893e-03, -1.6835e-02, -9.6962e-02]]],\n",
       "              \n",
       "              \n",
       "                      [[[ 1.6775e-01,  1.7005e-02, -1.7697e-01],\n",
       "                        [ 8.3140e-02,  1.6382e-01, -2.6455e-01],\n",
       "                        [ 1.0182e-01,  1.5865e-01, -1.5109e-01]],\n",
       "              \n",
       "                       [[-4.5719e-01, -7.0160e-02, -5.2318e-01],\n",
       "                        [-5.8446e-01,  6.3267e-01, -2.8752e-01],\n",
       "                        [-2.1785e-01,  8.7130e-02,  2.1979e-01]],\n",
       "              \n",
       "                       [[-6.3404e-02, -3.5334e-02, -3.1047e-02],\n",
       "                        [-3.8175e-02,  4.0012e-02,  4.5206e-02],\n",
       "                        [-4.8178e-02, -5.6093e-02,  4.0893e-02]],\n",
       "              \n",
       "                       [[-7.9711e-02,  4.4892e-02, -1.8616e-03],\n",
       "                        [ 8.2377e-02, -3.3226e-02, -1.6654e-01],\n",
       "                        [ 6.7091e-02, -1.5974e-01, -8.5624e-02]],\n",
       "              \n",
       "                       [[ 8.1229e-02, -1.1347e-01, -5.9499e-02],\n",
       "                        [-3.3169e-02,  4.6569e-02, -1.0126e-01],\n",
       "                        [ 8.9409e-02,  3.6553e-02,  6.5589e-02]],\n",
       "              \n",
       "                       [[ 9.4585e-02,  7.5048e-03, -1.2224e-01],\n",
       "                        [ 8.6854e-02,  2.2061e-02, -1.4894e-02],\n",
       "                        [-5.1988e-02,  8.3531e-03, -6.0132e-02]],\n",
       "              \n",
       "                       [[-5.5601e-01, -2.0917e-01,  3.4530e-01],\n",
       "                        [-4.0864e-01,  2.4036e-02, -5.5384e-04],\n",
       "                        [-3.3427e-01,  2.5020e-01, -9.6240e-02]],\n",
       "              \n",
       "                       [[-8.4610e-02,  5.4271e-01, -1.2191e-01],\n",
       "                        [-2.9303e-01,  3.0653e-01,  1.4053e-01],\n",
       "                        [ 8.1680e-02, -3.0353e-01,  3.0648e-02]],\n",
       "              \n",
       "                       [[ 2.3827e-02, -3.4961e-01,  1.1842e-01],\n",
       "                        [ 1.1180e-02, -3.2843e-01,  1.2621e-02],\n",
       "                        [-3.1783e-02, -9.8463e-02, -1.6986e-01]],\n",
       "              \n",
       "                       [[ 8.7440e-02,  2.3466e-02, -1.1138e-01],\n",
       "                        [-5.6463e-02,  2.2458e-02, -5.1656e-02],\n",
       "                        [ 1.4721e-02, -8.8331e-02, -8.2249e-02]]],\n",
       "              \n",
       "              \n",
       "                      [[[-1.8985e-01, -4.2789e-02, -1.0440e-01],\n",
       "                        [-1.1545e-01,  3.4702e-03, -1.3995e-01],\n",
       "                        [-6.2551e-02, -2.9239e-02,  3.6249e-02]],\n",
       "              \n",
       "                       [[ 1.9956e-01,  1.2690e-02, -4.2391e-01],\n",
       "                        [-1.0551e-01, -2.8587e-01, -4.3354e-02],\n",
       "                        [-1.4716e-01, -3.2078e-01,  3.6373e-01]],\n",
       "              \n",
       "                       [[ 3.4383e-02, -5.9775e-02,  1.0450e-02],\n",
       "                        [ 1.8405e-02, -3.4230e-02,  8.4262e-02],\n",
       "                        [-8.7450e-02,  3.9706e-02, -8.3385e-02]],\n",
       "              \n",
       "                       [[-1.5715e-01,  3.8648e-02,  3.9224e-02],\n",
       "                        [ 2.5618e-02,  2.7884e-02, -2.4271e-02],\n",
       "                        [-4.2578e-02, -6.7429e-02, -1.0275e-03]],\n",
       "              \n",
       "                       [[ 1.3651e-02,  5.2816e-02,  2.2705e-02],\n",
       "                        [-4.5576e-02, -5.0707e-02, -1.1787e-01],\n",
       "                        [ 7.1882e-03, -1.4071e-01, -6.9423e-03]],\n",
       "              \n",
       "                       [[-1.1463e-01,  6.8828e-02,  7.2964e-02],\n",
       "                        [-1.1134e-01, -1.2856e-01,  4.0170e-03],\n",
       "                        [-5.5184e-02,  8.3829e-03, -5.6853e-02]],\n",
       "              \n",
       "                       [[-2.6341e-02, -4.1380e-02, -1.0030e-01],\n",
       "                        [-1.5105e-01, -7.8213e-02, -1.4430e-01],\n",
       "                        [-1.4664e-01, -2.1369e-01, -1.4065e-01]],\n",
       "              \n",
       "                       [[-1.3613e-01,  9.0217e-02,  2.2783e-02],\n",
       "                        [-1.1862e-01,  3.9758e-02,  2.4904e-02],\n",
       "                        [-1.0494e-01,  4.7296e-03, -1.6641e-02]],\n",
       "              \n",
       "                       [[ 1.6909e-01,  2.2628e-01,  1.3010e-01],\n",
       "                        [ 7.6348e-02, -1.9847e-02, -4.7292e-01],\n",
       "                        [ 3.2428e-01,  5.5427e-02, -3.1200e-01]],\n",
       "              \n",
       "                       [[ 5.4849e-02,  8.6521e-02,  1.1135e-01],\n",
       "                        [ 2.7685e-02, -6.4117e-02, -5.2306e-02],\n",
       "                        [-8.1837e-02,  5.1553e-02, -8.0721e-02]]],\n",
       "              \n",
       "              \n",
       "                      [[[-5.4169e-02, -2.0474e-01, -1.3997e-01],\n",
       "                        [-6.8065e-03, -1.5091e-01, -1.1309e-01],\n",
       "                        [ 7.8652e-02, -1.3983e-01, -5.5649e-02]],\n",
       "              \n",
       "                       [[ 4.7086e-01,  4.3090e-01,  1.4124e-01],\n",
       "                        [-2.0612e-01, -3.6857e-01, -7.5615e-02],\n",
       "                        [-1.7319e-01, -3.1687e-02, -5.5033e-02]],\n",
       "              \n",
       "                       [[-1.2293e-01, -9.7460e-02, -3.9998e-02],\n",
       "                        [-2.9905e-02, -5.1989e-02, -8.3442e-02],\n",
       "                        [ 4.7554e-03, -8.1723e-02, -7.5384e-02]],\n",
       "              \n",
       "                       [[-1.0322e-01, -9.7279e-02,  1.2354e-01],\n",
       "                        [ 5.8703e-03, -4.7452e-02, -7.5776e-02],\n",
       "                        [ 3.4548e-02,  2.2581e-02, -1.1580e-01]],\n",
       "              \n",
       "                       [[-6.8101e-02, -3.9986e-02, -3.5505e-02],\n",
       "                        [-1.1367e-01,  2.7722e-03, -6.7911e-02],\n",
       "                        [ 1.3175e-01,  1.2262e-01,  4.6474e-02]],\n",
       "              \n",
       "                       [[ 2.3608e-02, -5.6321e-02,  1.8836e-02],\n",
       "                        [-9.5103e-02, -7.4295e-02, -4.4600e-02],\n",
       "                        [-3.2878e-02, -9.4325e-02,  4.2848e-02]],\n",
       "              \n",
       "                       [[ 1.9074e-01, -1.8609e-01,  1.0240e-01],\n",
       "                        [-4.0360e-02, -1.2117e-01, -5.6258e-02],\n",
       "                        [ 8.6161e-02, -7.6902e-02, -9.9010e-02]],\n",
       "              \n",
       "                       [[ 1.8642e-02, -3.9941e-02, -3.4417e-02],\n",
       "                        [-1.2185e-01, -8.6668e-02, -5.4079e-02],\n",
       "                        [-1.5185e-01, -1.0483e-01,  1.1830e-01]],\n",
       "              \n",
       "                       [[-1.0927e-01,  9.7086e-02, -8.1090e-02],\n",
       "                        [ 5.7595e-02,  1.0093e-01,  3.2588e-02],\n",
       "                        [ 1.1078e-02,  5.3322e-02, -5.4052e-02]],\n",
       "              \n",
       "                       [[-9.6489e-02, -5.3582e-03, -8.3877e-03],\n",
       "                        [ 9.3049e-02,  8.8813e-02,  3.5265e-02],\n",
       "                        [ 8.7630e-02, -6.6980e-02,  1.0060e-01]]],\n",
       "              \n",
       "              \n",
       "                      [[[ 1.0025e-01, -2.1252e-01, -4.3598e-01],\n",
       "                        [-5.6954e-02, -1.1132e-01, -6.6918e-02],\n",
       "                        [ 2.1405e-02,  6.1117e-02, -1.0483e-01]],\n",
       "              \n",
       "                       [[-3.7894e-01, -3.4627e-01,  2.8870e-01],\n",
       "                        [-4.4405e-01, -4.2820e-01, -2.8063e-01],\n",
       "                        [ 3.8780e-01,  4.6549e-01, -1.4163e-01]],\n",
       "              \n",
       "                       [[ 3.4845e-02, -4.0705e-02, -8.8332e-02],\n",
       "                        [ 7.1254e-03, -6.0972e-02, -1.1124e-01],\n",
       "                        [-6.1954e-02, -7.9269e-02,  7.3623e-02]],\n",
       "              \n",
       "                       [[ 1.0908e-01, -4.5017e-02, -7.9444e-02],\n",
       "                        [-8.3725e-02, -6.4914e-02, -4.4902e-02],\n",
       "                        [ 1.0729e-02, -7.7500e-02,  3.4534e-02]],\n",
       "              \n",
       "                       [[-4.8300e-02, -9.8902e-02, -1.0067e-01],\n",
       "                        [-8.9918e-02, -7.5799e-02,  5.3106e-02],\n",
       "                        [ 9.8760e-02, -1.8484e-02, -5.5464e-02]],\n",
       "              \n",
       "                       [[ 2.3419e-02, -8.2826e-02,  8.7227e-02],\n",
       "                        [-6.9653e-02,  7.5300e-02, -8.8101e-02],\n",
       "                        [-7.4171e-02,  2.5163e-02,  2.6470e-02]],\n",
       "              \n",
       "                       [[ 3.9180e-01,  4.5444e-01, -3.1623e-01],\n",
       "                        [-2.7232e-01, -1.3101e-02, -4.0646e-02],\n",
       "                        [-1.0706e-01, -4.7844e-01, -3.8491e-02]],\n",
       "              \n",
       "                       [[-7.0957e-02, -2.0007e-01, -9.6047e-02],\n",
       "                        [-1.6938e-01,  1.8840e-01,  1.6326e-01],\n",
       "                        [-2.5033e-01, -1.2848e-01,  2.1341e-01]],\n",
       "              \n",
       "                       [[-9.2523e-02, -1.3717e-01,  3.7022e-01],\n",
       "                        [-1.0450e-01, -3.4083e-01, -1.4699e-01],\n",
       "                        [ 2.7293e-01,  1.1737e-01, -1.6989e-01]],\n",
       "              \n",
       "                       [[ 8.6714e-02,  6.4015e-02, -3.5360e-02],\n",
       "                        [ 1.3795e-02, -5.7542e-02,  6.7665e-02],\n",
       "                        [ 8.6388e-02,  3.3709e-02, -7.7678e-02]]],\n",
       "              \n",
       "              \n",
       "                      [[[ 9.3403e-02, -2.6680e-02,  2.2171e-01],\n",
       "                        [-1.6661e-02, -3.1453e-01, -2.0233e-01],\n",
       "                        [ 9.5416e-02,  1.1233e-01,  2.2145e-01]],\n",
       "              \n",
       "                       [[ 1.4376e-01,  2.4187e-01,  2.6433e-01],\n",
       "                        [-1.4450e-01, -2.0874e-01, -5.1078e-01],\n",
       "                        [-3.1933e-01, -2.5872e-01,  1.1818e-01]],\n",
       "              \n",
       "                       [[-1.5482e-02, -8.1387e-02, -3.0179e-02],\n",
       "                        [-4.2252e-02,  4.1531e-02, -5.0080e-02],\n",
       "                        [-3.6879e-02, -9.1691e-02, -3.1962e-02]],\n",
       "              \n",
       "                       [[ 1.7240e-01,  3.3085e-02,  2.2314e-02],\n",
       "                        [-4.3040e-02,  1.1633e-01, -1.7086e-02],\n",
       "                        [-2.4476e-01,  6.6593e-03, -8.2219e-02]],\n",
       "              \n",
       "                       [[ 9.5926e-03,  1.0353e-01,  3.2829e-02],\n",
       "                        [-5.6895e-02,  1.2874e-01, -1.4382e-01],\n",
       "                        [-1.2463e-01, -7.2542e-02, -4.6116e-02]],\n",
       "              \n",
       "                       [[-4.7423e-02, -5.5555e-02,  1.1830e-02],\n",
       "                        [ 1.2047e-02,  3.8129e-04, -6.6725e-02],\n",
       "                        [ 9.4117e-02, -2.7767e-03,  6.7958e-02]],\n",
       "              \n",
       "                       [[ 1.4997e-01, -5.6039e-01,  1.0065e-02],\n",
       "                        [ 6.8448e-02,  5.9043e-02, -3.1643e-01],\n",
       "                        [-6.8640e-02,  4.0733e-01, -2.4081e-01]],\n",
       "              \n",
       "                       [[-1.0315e-01, -4.1274e-01, -2.7906e-01],\n",
       "                        [-1.5067e-01, -4.4325e-01,  1.6965e-01],\n",
       "                        [ 4.1110e-01,  6.1448e-01,  3.5829e-02]],\n",
       "              \n",
       "                       [[-4.6979e-02,  3.1682e-01,  8.2368e-02],\n",
       "                        [-1.7585e-01,  1.5884e-01,  2.5608e-01],\n",
       "                        [-3.2164e-01, -9.0876e-01, -8.0473e-02]],\n",
       "              \n",
       "                       [[ 5.7444e-02, -8.6151e-02,  3.9452e-02],\n",
       "                        [ 1.9935e-02, -5.4252e-02, -5.6396e-02],\n",
       "                        [ 8.6660e-03, -1.3616e-01,  3.3811e-02]]],\n",
       "              \n",
       "              \n",
       "                      [[[ 1.2260e-01,  9.8170e-02,  2.3351e-01],\n",
       "                        [-7.0354e-02, -1.2746e-01, -2.9300e-01],\n",
       "                        [ 2.8570e-02, -8.2914e-03, -4.1730e-02]],\n",
       "              \n",
       "                       [[-4.3653e-01, -4.6116e-01,  2.2248e-01],\n",
       "                        [ 2.1873e-01,  3.1728e-02, -2.6914e-02],\n",
       "                        [ 1.1353e-01,  3.6242e-01,  1.9652e-02]],\n",
       "              \n",
       "                       [[ 3.2151e-03,  6.3804e-03, -8.2289e-03],\n",
       "                        [ 6.9496e-02,  1.3629e-02,  8.9060e-02],\n",
       "                        [ 7.2273e-02, -8.0113e-02,  2.0916e-03]],\n",
       "              \n",
       "                       [[-1.3567e-01, -1.8962e-01,  3.4026e-02],\n",
       "                        [-2.0213e-02, -9.6328e-02,  1.7660e-01],\n",
       "                        [-2.4551e-01, -1.1598e-01,  1.9650e-01]],\n",
       "              \n",
       "                       [[ 2.6611e-03, -1.8808e-02,  6.1600e-02],\n",
       "                        [-4.1545e-02, -6.4582e-02, -2.7398e-02],\n",
       "                        [ 8.2904e-02,  1.9582e-02,  1.4320e-02]],\n",
       "              \n",
       "                       [[-2.6884e-02,  6.3274e-02,  3.4315e-02],\n",
       "                        [ 2.4948e-02, -3.5911e-02, -1.1877e-01],\n",
       "                        [-1.0507e-01, -6.6263e-03,  5.3380e-02]],\n",
       "              \n",
       "                       [[-1.6602e-01,  4.2130e-02,  1.0009e-01],\n",
       "                        [-1.8703e-01, -2.5376e-01, -1.1146e-01],\n",
       "                        [-4.4223e-02,  2.3370e-01,  1.6681e-01]],\n",
       "              \n",
       "                       [[ 9.3188e-02, -5.1442e-02,  3.7068e-02],\n",
       "                        [ 2.8890e-01, -1.8694e-02, -3.8771e-01],\n",
       "                        [ 3.0097e-02,  2.4543e-01, -2.7644e-01]],\n",
       "              \n",
       "                       [[-4.3025e-01, -1.3610e-01, -3.0553e-01],\n",
       "                        [-1.3180e-01, -1.3525e-01, -2.1495e-01],\n",
       "                        [-1.4658e-01, -2.4221e-01, -2.6193e-01]],\n",
       "              \n",
       "                       [[-4.8811e-02, -9.1417e-03,  7.3668e-02],\n",
       "                        [-1.6711e-01, -7.5821e-02,  6.2785e-02],\n",
       "                        [-5.9666e-02, -2.5720e-02,  5.8750e-02]]],\n",
       "              \n",
       "              \n",
       "                      [[[-2.9713e-01, -4.4681e-02,  5.8793e-02],\n",
       "                        [ 1.4366e-02, -1.2575e-01, -6.9184e-02],\n",
       "                        [ 1.1639e-01, -6.2383e-02,  4.5514e-02]],\n",
       "              \n",
       "                       [[ 1.2600e-01, -4.9746e-01, -1.6678e-02],\n",
       "                        [ 2.7129e-01, -2.2165e-01, -3.6308e-01],\n",
       "                        [-1.9232e-01, -1.9976e-01, -4.1828e-01]],\n",
       "              \n",
       "                       [[-2.6497e-03, -2.9255e-02, -1.0234e-01],\n",
       "                        [-4.9857e-02, -9.9821e-02, -8.8843e-02],\n",
       "                        [-1.2315e-02, -1.1138e-01, -1.2116e-01]],\n",
       "              \n",
       "                       [[ 1.2459e-01,  1.0835e-01, -1.7829e-01],\n",
       "                        [-2.5410e-02,  6.1652e-02, -1.7175e-01],\n",
       "                        [-1.1177e-01, -9.1646e-02, -1.9525e-03]],\n",
       "              \n",
       "                       [[ 1.7576e-01, -3.0073e-01,  1.9530e-01],\n",
       "                        [ 1.3078e-01,  1.1556e-01,  7.7750e-04],\n",
       "                        [ 1.4316e-01,  6.1692e-02, -3.4176e-02]],\n",
       "              \n",
       "                       [[ 1.0752e-01, -8.4954e-02,  5.9685e-03],\n",
       "                        [-7.9794e-02, -3.8681e-03,  6.7266e-02],\n",
       "                        [ 1.1165e-01, -1.7754e-02, -7.5458e-02]],\n",
       "              \n",
       "                       [[-3.5736e-01, -3.7938e-01,  2.0365e-01],\n",
       "                        [-2.9931e-01, -4.6606e-01, -2.6147e-01],\n",
       "                        [ 8.6487e-02,  1.7004e-01, -2.0239e-01]],\n",
       "              \n",
       "                       [[-8.0743e-02, -1.9842e-01, -6.6283e-02],\n",
       "                        [-1.5017e-01, -4.1445e-01,  1.2410e-01],\n",
       "                        [ 3.2068e-01, -1.2753e-01,  9.6913e-02]],\n",
       "              \n",
       "                       [[ 1.9322e-01, -1.7998e-02,  3.0643e-01],\n",
       "                        [ 1.4344e-01,  2.4938e-01,  1.3797e-01],\n",
       "                        [-9.5745e-02,  1.1336e-01,  2.3319e-01]],\n",
       "              \n",
       "                       [[ 6.3026e-02,  7.9417e-02, -1.1279e-01],\n",
       "                        [-5.7636e-02, -1.2449e-01,  3.6947e-03],\n",
       "                        [-1.4933e-01, -4.3476e-02, -2.1250e-02]]],\n",
       "              \n",
       "              \n",
       "                      [[[-1.5174e-02, -9.1018e-03, -2.0225e-02],\n",
       "                        [-2.8735e-02, -1.9296e-02, -9.2907e-02],\n",
       "                        [ 7.6879e-02,  7.3152e-02,  1.9679e-02]],\n",
       "              \n",
       "                       [[-1.8707e-01, -2.5332e-01, -1.8185e-02],\n",
       "                        [-3.2253e-01, -1.0789e-01,  5.5599e-03],\n",
       "                        [-2.5691e-01,  8.7479e-02,  1.2883e-01]],\n",
       "              \n",
       "                       [[-7.4641e-02,  1.0496e-01,  6.4371e-02],\n",
       "                        [ 3.4865e-02,  1.0475e-01,  3.2089e-02],\n",
       "                        [ 6.9965e-02, -5.1819e-02,  6.8886e-02]],\n",
       "              \n",
       "                       [[-1.0030e-02,  5.5921e-02, -5.8717e-02],\n",
       "                        [ 2.7902e-02,  6.4949e-02, -1.0699e-01],\n",
       "                        [ 4.2011e-02, -9.4240e-02, -1.0166e-01]],\n",
       "              \n",
       "                       [[-8.2473e-02,  2.1366e-02, -7.7379e-02],\n",
       "                        [-7.7177e-02, -6.7430e-02,  2.4983e-02],\n",
       "                        [-1.7449e-01, -7.3312e-02, -3.6395e-03]],\n",
       "              \n",
       "                       [[-6.9841e-03, -5.2014e-02,  3.2019e-02],\n",
       "                        [-9.2307e-02, -1.0373e-01, -2.1678e-02],\n",
       "                        [-8.1814e-02,  4.4924e-02, -8.3993e-02]],\n",
       "              \n",
       "                       [[-4.5188e-02, -2.4136e-02, -1.7319e-01],\n",
       "                        [-1.4433e-02, -2.0111e-01, -2.6346e-01],\n",
       "                        [-7.1194e-02, -1.0942e-01, -1.8340e-01]],\n",
       "              \n",
       "                       [[-1.3650e-01,  1.8202e-01, -4.6649e-02],\n",
       "                        [ 1.4629e-01,  2.5284e-01,  2.2940e-02],\n",
       "                        [ 2.2239e-01,  3.2663e-01,  1.3806e-01]],\n",
       "              \n",
       "                       [[ 3.1718e-01, -1.0682e-01, -3.2066e-01],\n",
       "                        [-5.5594e-02, -6.6339e-02, -2.6870e-01],\n",
       "                        [-9.1059e-02, -2.6197e-01, -8.8761e-02]],\n",
       "              \n",
       "                       [[-5.9808e-02, -6.2624e-02,  2.8737e-02],\n",
       "                        [-5.3514e-02, -4.4262e-02,  9.0900e-02],\n",
       "                        [-7.0923e-02, -3.2532e-02,  7.1035e-02]]]])),\n",
       "             ('block_2.2.bias',\n",
       "              tensor([ 0.0246, -0.1928,  0.2262,  0.1092, -0.0751,  0.2447,  0.0414,  0.0332,\n",
       "                      -0.0628, -0.0292])),\n",
       "             ('classifier.1.weight',\n",
       "              tensor([[ 0.0136, -0.2018,  0.1902,  ...,  0.0174, -0.0057,  0.0130],\n",
       "                      [ 0.0090,  0.1583,  0.0528,  ..., -0.0115,  0.0298,  0.0261],\n",
       "                      [-0.0258, -0.0028,  0.1533,  ...,  0.0138, -0.0404,  0.0245],\n",
       "                      ...,\n",
       "                      [-0.0617, -0.0957, -0.1058,  ...,  0.0226,  0.0008,  0.0147],\n",
       "                      [ 0.0912,  0.2722,  0.0022,  ...,  0.0050,  0.0329, -0.0264],\n",
       "                      [-0.0482, -0.0953, -0.0728,  ..., -0.0179, -0.0395,  0.0082]])),\n",
       "             ('classifier.1.bias',\n",
       "              tensor([ 0.0525, -0.1780,  0.4597, -0.0629, -0.3739, -0.1687,  0.1967,  0.0044,\n",
       "                       0.1686, -0.1350]))])"
      ]
     },
     "execution_count": 123,
     "metadata": {},
     "output_type": "execute_result"
    }
   ],
   "source": [
    "loaded_model_2.state_dict()"
   ]
  },
  {
   "cell_type": "code",
   "execution_count": 124,
   "metadata": {},
   "outputs": [
    {
     "data": {
      "text/plain": [
       "FashionMNISTModelV2(\n",
       "  (block_1): Sequential(\n",
       "    (0): Conv2d(1, 10, kernel_size=(3, 3), stride=(1, 1), padding=(1, 1))\n",
       "    (1): ReLU()\n",
       "    (2): Conv2d(10, 10, kernel_size=(3, 3), stride=(1, 1), padding=(1, 1))\n",
       "    (3): ReLU()\n",
       "    (4): MaxPool2d(kernel_size=2, stride=2, padding=0, dilation=1, ceil_mode=False)\n",
       "  )\n",
       "  (block_2): Sequential(\n",
       "    (0): Conv2d(10, 10, kernel_size=(3, 3), stride=(1, 1), padding=(1, 1))\n",
       "    (1): ReLU()\n",
       "    (2): Conv2d(10, 10, kernel_size=(3, 3), stride=(1, 1), padding=(1, 1))\n",
       "    (3): ReLU()\n",
       "    (4): MaxPool2d(kernel_size=2, stride=2, padding=0, dilation=1, ceil_mode=False)\n",
       "  )\n",
       "  (classifier): Sequential(\n",
       "    (0): Flatten(start_dim=1, end_dim=-1)\n",
       "    (1): Linear(in_features=490, out_features=10, bias=True)\n",
       "  )\n",
       ")"
      ]
     },
     "execution_count": 124,
     "metadata": {},
     "output_type": "execute_result"
    }
   ],
   "source": [
    "loaded_model_2.to(device)"
   ]
  },
  {
   "cell_type": "code",
   "execution_count": 125,
   "metadata": {},
   "outputs": [
    {
     "data": {
      "text/plain": [
       "{'model_name': 'FashionMNISTModelV2',\n",
       " 'model_loss': 0.3197421133518219,\n",
       " 'model_acc': 88.33865814696486}"
      ]
     },
     "execution_count": 125,
     "metadata": {},
     "output_type": "execute_result"
    }
   ],
   "source": [
    "model_2_results"
   ]
  },
  {
   "cell_type": "code",
   "execution_count": 127,
   "metadata": {},
   "outputs": [
    {
     "name": "stderr",
     "output_type": "stream",
     "text": [
      "100%|██████████| 313/313 [00:02<00:00, 154.24it/s]\n"
     ]
    }
   ],
   "source": [
    "torch.manual_seed(42)\n",
    "torch.cuda.manual_seed(42)\n",
    "\n",
    "loaded_model_2_results = eval_model(model=loaded_model_2, data_loader=test_dataloader, device=device, loss_fn=loss_fn, accuracy_fn=accuracy_fn)"
   ]
  },
  {
   "cell_type": "code",
   "execution_count": 128,
   "metadata": {},
   "outputs": [
    {
     "data": {
      "text/plain": [
       "{'model_name': 'FashionMNISTModelV2',\n",
       " 'model_loss': 0.3197421133518219,\n",
       " 'model_acc': 88.33865814696486}"
      ]
     },
     "execution_count": 128,
     "metadata": {},
     "output_type": "execute_result"
    }
   ],
   "source": [
    "loaded_model_2_results"
   ]
  },
  {
   "cell_type": "code",
   "execution_count": 131,
   "metadata": {},
   "outputs": [
    {
     "data": {
      "text/plain": [
       "tensor(True)"
      ]
     },
     "execution_count": 131,
     "metadata": {},
     "output_type": "execute_result"
    }
   ],
   "source": [
    "torch.isclose(torch.tensor(model_2_results[\"model_loss\"]), torch.tensor(loaded_model_2_results[\"model_loss\"]), rtol=1e-5).all()"
   ]
  },
  {
   "cell_type": "code",
   "execution_count": null,
   "metadata": {},
   "outputs": [],
   "source": []
  }
 ],
 "metadata": {
  "kernelspec": {
   "display_name": "tf",
   "language": "python",
   "name": "python3"
  },
  "language_info": {
   "codemirror_mode": {
    "name": "ipython",
    "version": 3
   },
   "file_extension": ".py",
   "mimetype": "text/x-python",
   "name": "python",
   "nbconvert_exporter": "python",
   "pygments_lexer": "ipython3",
   "version": "3.11.4"
  },
  "orig_nbformat": 4,
  "vscode": {
   "interpreter": {
    "hash": "a9063ff2262220159f9d0422687c0477cf7937962d72300ed35684f58e95be43"
   }
  }
 },
 "nbformat": 4,
 "nbformat_minor": 2
}
